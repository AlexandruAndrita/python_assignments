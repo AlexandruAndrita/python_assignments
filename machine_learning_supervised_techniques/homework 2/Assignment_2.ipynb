{
 "cells": [
  {
   "cell_type": "markdown",
   "metadata": {},
   "source": [
    "<h1 style=\"color:rgb(0,120,170)\">Assignment 2: Gaussian Classifier, Bias-Variance Decomposition, Evaluation Measures </h1>"
   ]
  },
  {
   "cell_type": "markdown",
   "metadata": {},
   "source": [
    "This material, no matter whether in printed or electronic form,\n",
    "may be used for personal and non-commercial educational use\n",
    "only. Any reproduction of this material, no matter whether as a\n",
    "whole or in parts, no matter whether in printed or in electronic\n",
    "form, requires explicit prior acceptance of the authors."
   ]
  },
  {
   "cell_type": "markdown",
   "metadata": {},
   "source": [
    "<h2 style=\"color:rgb(0,120,170)\">Automatic Testing Guidelines</h2>\n",
    "\n",
    "Automatic unittesting requires you, as a student, to submit a notebook which contains strictly defined objects.\n",
    "Strictness of definition consists of unified shapes, dtypes, variable names, and more.\n",
    "\n",
    "Within the notebook, we provide detailed instructions which you should follow in order to maximize your final grade. Please keep in mind:\n",
    "\n",
    "* Don't add any cells but use the ones provided by us. You may notice that most cells are tagged such that the unittest routine can recognise them.\n",
    "\n",
    "* We highly recommend you to develop your code within the provided cells. You can implement helper functions where needed unless you put them in the same cell they are actually called. Always make sure that implemented functions have the correct output and given variables contain the correct data type. Don't import any other packages than listed in the cell with the \"imports\" tag.\n",
    "\n",
    "* Never use variables you defined in another cell in your functions directly; always pass them to the function as a parameter. In the unittest they won't be available either.\n",
    "\n",
    "*Good luck! :)*"
   ]
  },
  {
   "cell_type": "markdown",
   "metadata": {},
   "source": [
    "<h2 style=\"color:rgb(0,120,170)\">Task 1: Gaussian classifier: visualization & parameter estimation (10 points)</h2>\n",
    "\n",
    "The goal of this task is to explore the given (artificial) data before diving into the classification function. To do this, we will use `matplotlib` to plot the data set and `numpy` to estimate the means & covariance matrices of the classes as well as the probability of encountering a positive/negative example.\n",
    "\n",
    "* **Task 1.1**: Visualize the data stored in `normal.csv` with two different colors using a scatter plot and store it in the given variable. Always label the axes of all your plots.\n",
    "* **Task 1.2**: We assume that the data is distributed according to a two-dimensional multivariate normal distribution:\n",
    "    - Write a function that estimates the means and covariance matrices of each class as well as the distributions $p(y=+1)$ and $p(y=-1)$\n",
    "    - Return a tuple containing the results (the resulting list should be of length 6). The datatype for `covXpos`, `covXneg`, `meanXpos` and `meanXneg` should be a numpy array, for $p(y=+1)$ and $p(y=-1)$ it should be float."
   ]
  },
  {
   "cell_type": "markdown",
   "metadata": {},
   "source": [
    "<h3 style=\"color:rgb(210,90,80)\">1.1. Code & question (4 points):</h3>"
   ]
  },
  {
   "cell_type": "code",
   "execution_count": 1,
   "metadata": {
    "tags": [
     "imports"
    ]
   },
   "outputs": [],
   "source": [
    "import sklearn\n",
    "import numpy as np\n",
    "import pandas as pd\n",
    "import matplotlib.pyplot as plt\n",
    "from scipy.stats import multivariate_normal\n",
    "from mpl_toolkits.mplot3d import Axes3D\n",
    "import random\n",
    "%matplotlib inline  "
   ]
  },
  {
   "cell_type": "code",
   "execution_count": 2,
   "metadata": {
    "tags": [
     "Plot1"
    ]
   },
   "outputs": [],
   "source": [
    "# read data, split into X (features) and y (labels)\n",
    "Z = np.genfromtxt('normal.csv', delimiter=',')\n",
    "X, y = Z[:,:-1], Z[:,-1]\n",
    "\n",
    "# your code for the visualization\n",
    "\n",
    "# example: plt.figure...\n",
    "# plt.plot..."
   ]
  },
  {
   "cell_type": "markdown",
   "metadata": {},
   "source": [
    "***Answer the following yes/no questions concerning the distribution of the data:***\n",
    "\n",
    "a_) Would a linear regression method be reasonable for this task?<br>\n",
    "b_) Would a linear classifier roughly achieve a better performance than 33% misclassification?<br>\n",
    "\n",
    "To answer the question, assign \"True\" or \"False\" boolean values to variables in the next cell. A non-correctly answered question yields negative points and no answer (i.e. answer “None”) gives 0 points for a question. More details on grading can be found in the [FAQ sheet](https://docs.google.com/document/d/11ccAoEWh1APAoj79kGFiL64_7OL7RApPUHJ2-cvS2s0/edit?usp=sharing).<br>\n",
    "<b>Note:</b> Do not reuse these variable names. They are used for testing."
   ]
  },
  {
   "cell_type": "code",
   "execution_count": null,
   "metadata": {
    "tags": [
     "Q0"
    ]
   },
   "outputs": [],
   "source": [
    "# examples for you\n",
    "example_of_true_variable = True\n",
    "example_of_false_variable = False\n",
    "\n",
    "# your answers go here ↓↓↓\n",
    "a_=None\n",
    "b_=None"
   ]
  },
  {
   "cell_type": "markdown",
   "metadata": {},
   "source": [
    "<h3 style=\"color:rgb(210,90,80)\">1.2. Code (6 points):</h3>"
   ]
  },
  {
   "cell_type": "code",
   "execution_count": null,
   "metadata": {
    "tags": [
     "est_mean_cov"
    ]
   },
   "outputs": [],
   "source": [
    "\"\"\"\n",
    "Function that estimates the means and covariance matrices from the given data as well as the probability to encounter\n",
    "a positive/negative example respectively\n",
    "@param X_, np ndarray, data matrix\n",
    "@param y_, np ndarray, data vector\n",
    "\"\"\"\n",
    "def est_mean_cov(X_,y_):\n",
    "    # replace the following line with your lines of code\n",
    "    raise NotImplementedError(\"You have not implemented this function\")\n",
    "\n",
    "covXpos, meanXpos, p_ypos, covXneg, meanXneg, p_yneg = est_mean_cov(X,y)\n",
    "    \n",
    "# print corresponding values\n",
    "print(\"Positive class (blue):\\n\")\n",
    "print(\"Covariance:\")\n",
    "print(pd.DataFrame(covXpos,columns=[\"x1\",\"x2\"],index=[\"x1\",\"x2\"]),\"\\n\")\n",
    "print(\"Mean = \", meanXpos, \"\\n\")\n",
    "print(\"p(y=+1) =\", p_ypos, \"\\n\\n\")\n",
    "print(\"Negative class (orange):\\n\")\n",
    "print(\"Covariance:\")\n",
    "print(pd.DataFrame(covXneg,columns=[\"x1\",\"x2\"],index=[\"x1\",\"x2\"]),\"\\n\")\n",
    "print(\"Mean =\", meanXneg, \"\\n\")\n",
    "print(\"p(y=-1) =\", p_yneg, \"\\n\")"
   ]
  },
  {
   "cell_type": "markdown",
   "metadata": {},
   "source": [
    "<h2 style=\"color:rgb(0,120,170)\">Task 2: Gaussian classifier: compute classifier & visualization (20 points)</h2>\n",
    "\n",
    "Now that we (hopefully) get a good idea of the data, we want to implement a classifier and show its effects using a plot.\n",
    "\n",
    "- **Task 2.1**: Compute an optimal classification function $g$ in `calc_func_g()` (see slide \"Explicit example: Gaussian classifier: Part 2\" from lecture Unit2.pdf). To do this, you should:\n",
    "    - Calculate the values of the corresponding parameters $\\mathbf{A}$, $\\mathbf{b}$ and $c$ in the provided functions.\n",
    "    - Store the results in the given parameters **par_A** (np.array), **par_b** (np.array), **par_c** (float), and **func_g** (np.array).\n",
    "    - Print the values of $\\mathbf{A}$, $\\mathbf{b}$ and $c$ that you have calculated with their respective shapes.\n",
    "    - Note: You can reuse the results from the previous exercise here.\n",
    "\n",
    "* **Task 2.2**: Visualize the classification function and the decision boundaries including the original points from Task 1.1. in **one** two-dimensional plot.\n"
   ]
  },
  {
   "cell_type": "markdown",
   "metadata": {},
   "source": [
    "<h3 style=\"color:rgb(210,90,80)\">2.1 Code (10 points):</h3>"
   ]
  },
  {
   "cell_type": "code",
   "execution_count": null,
   "metadata": {
    "tags": [
     "parameters1"
    ]
   },
   "outputs": [],
   "source": [
    "\"\"\"\n",
    "These functions should contain the calculations for the respective parameters and return the result.\n",
    "@param covXpos, np ndarray, covariance matrix of positive examples\n",
    "@param meanXpos, np ndarray, mean of positive examples\n",
    "@param covXneg, np ndarray, covariance matrix of negativ examples\n",
    "@param meanXneg, np ndarray, mean of negative examples\n",
    "@param p_ypos, float, probability of encountering a positive example\n",
    "@param p_yneg, float, probability of encountering a negative example\n",
    "Hint: You may want to check out np.linalg.inv\n",
    "\"\"\"\n",
    "def calc_par_A(covXpos, meanXpos, covXneg, meanXneg, p_ypos, p_yneg):\n",
    "    \n",
    "    # replace the following line with your lines of code\n",
    "    raise NotImplementedError(\"You have not implemented this function\")\n",
    "\n",
    "def calc_par_b(covXpos, meanXpos, covXneg, meanXneg, p_ypos, p_yneg):\n",
    "    \n",
    "    # replace the following line with your lines of code\n",
    "    raise NotImplementedError(\"You have not implemented this function\")\n",
    "\n",
    "def calc_par_c(covXpos, meanXpos, covXneg, meanXneg, p_ypos, p_yneg):\n",
    "    \n",
    "    # replace the following line with your lines of code\n",
    "    raise NotImplementedError(\"You have not implemented this function\")\n",
    "\n",
    "\"\"\"\n",
    "Combine the previously calculated parameters to the optimal classification function g.\n",
    "@param points, np.array, the points that the function g should be applied to\n",
    "\"\"\"\n",
    "def calc_func_g(par_A, par_b, par_c, points):\n",
    "    \n",
    "    # replace the following line with your lines of code\n",
    "    raise NotImplementedError(\"You have not implemented this function\")\n",
    "\n",
    "# some code that should help you\n",
    "X1, X2 = np.mgrid[-10.5:10.5:500j, -10.5:10.5:500j]\n",
    "points = np.c_[X1.ravel(), X2.ravel()]\n",
    "    \n",
    "par_A = calc_par_A(covXpos, meanXpos, covXneg, meanXneg, p_ypos, p_yneg)\n",
    "par_b = calc_par_b(covXpos, meanXpos, covXneg, meanXneg, p_ypos, p_yneg)\n",
    "par_c = calc_par_c(covXpos, meanXpos, covXneg, meanXneg, p_ypos, p_yneg)\n",
    "func_g = calc_func_g(par_A, par_b, par_c, points)\n",
    "\n",
    "# print the values shapes of par_A, par_b, and par_c here\n"
   ]
  },
  {
   "cell_type": "markdown",
   "metadata": {},
   "source": [
    "<h3 style=\"color:rgb(210,90,80)\">2.2 Code & question (10 points):</h3>"
   ]
  },
  {
   "cell_type": "code",
   "execution_count": null,
   "metadata": {
    "tags": [
     "parameters2"
    ]
   },
   "outputs": [],
   "source": [
    "# your code for the visualization\n",
    "\n",
    "# example: plt.figure...\n",
    "# plt.plot..."
   ]
  },
  {
   "cell_type": "markdown",
   "metadata": {},
   "source": [
    "***Answer the following questions about the plot you just created:***\n",
    "\n",
    "c_) Did the classifier perform well on the task i.e. do the decision boundaries seem to match the classes as plotted in Task 1.1?<br>\n",
    "d_) Are datapoints that lie in the middle, overlapping region of the two classes more prone to being misclassified?<br>\n",
    "\n",
    "To answer the question, assign \"True\" or \"False\" boolean values to variables in the next cell. A non-correctly answered question yields negative points and no answer (i.e. answer “None”) gives 0 points for a question. More details on grading can be found in the [FAQ sheet](https://docs.google.com/document/d/11ccAoEWh1APAoj79kGFiL64_7OL7RApPUHJ2-cvS2s0/edit?usp=sharing).<br>\n",
    "<b>Note:</b> Do not reuse these variable names. They are used for testing."
   ]
  },
  {
   "cell_type": "code",
   "execution_count": null,
   "metadata": {},
   "outputs": [],
   "source": [
    "# your answers go here ↓↓↓\n",
    "c_=None\n",
    "d_=None"
   ]
  },
  {
   "cell_type": "markdown",
   "metadata": {},
   "source": [
    "<h2 style=\"color:rgb(0,120,170)\">Task 3: Details for bias-variance decomposition for quadratic loss (15 points)</h2>\n",
    "\n",
    "An explicit formula of the bias variance decomposition for the quadratic loss was mentioned in the lecture. In this task, you will be asked to fill in some details that haven't been discussed there. To this end, let us introduce some notation:\n",
    "\n",
    "$Z_l$ denotes a data matrix of $l$ elements from our data set $Z =(X,\\mathbf{y})$ with $X$ the feature matrix and $\\mathbf{y}$ the label vector. $g(\\mathbf{x}_0;\\mathbf{w}(Z_l)))$ denotes the model, with a parameter vector $\\mathbf{w}(Z_l)$ originating from $Z_l$, and $y$ is the label corresponding to a feature vector $\\mathbf{x}_0$. \n",
    "\n",
    "Our object of interest is the expected prediction error (EPE) for\n",
    "$\\mathbf{x}_0\\in X$ in case of the quadratic loss, i.e.:\n",
    "\n",
    "$$\\mathrm{EPE}(\\mathbf{x}_0) = \\mathrm{E}_{y\\mid\n",
    "\\mathbf{x}_0,Z_l}\\big(L_{\\mathbf{q}}(y,g(\\mathbf{x}_0;\\mathbf{w}(Z_l)))\\big)\n",
    "= \\mathrm{E}_{y\\mid\n",
    "\\mathbf{x}_0,Z_l}\\big((y-g(\\mathbf{x}_0;\\mathbf{w}(Z_l)))^2\\big)$$\n",
    "\n",
    "We assume that $y\\!\\mid\\!\\mathbf{x}_0$ and the selection of training samples $Z_l$ are\n",
    "independent which results in the following reformulation of the total expected prediction error:\n",
    "\n",
    "$$\\mathrm{EPE}(\\mathbf{x}_0) = \\mathrm{E}_{y\\mid\n",
    "\\mathbf{x}_0}\\Big(\\mathrm{E}_{Z_l}\\big((y-g(\\mathbf{x}_0;\\mathbf{w}(Z_l)))^2\\big)\\Big)\\quad \\text{(1)}$$\n",
    "\n",
    "Show that we can obtain the following bias-variance decomposition:\n",
    "\n",
    "\\begin{align*}\n",
    "\\mathrm{EPE}(\\mathbf{x}_0)=&\\,\\operatorname{Var}(y\\!\\mid\\!\\mathbf{x}_0)\\\\\n",
    "&+\\Big(\\mathrm{E}_{y\\mid\\mathbf{x}_0}(y)-E_{Z_l}\\big(g(\\mathbf{x}_0;\\mathbf{w}(Z_l))\\big)\\Big)^2\\\\\n",
    "&+\\mathrm{E}_{Z_l}\\Big(\\big(g(\\mathbf{x}_0;\\mathbf{w}(Z_l))-E_{Z_l}(g(\\mathbf{x}_0;\\mathbf{w}(Z_l)))\\big)^2\\Big)\n",
    "\\end{align*}\n",
    "\n",
    "For your calculation please use the given notation. Follow the steps indicated below."
   ]
  },
  {
   "cell_type": "markdown",
   "metadata": {},
   "source": [
    "<h3 style=\"color:rgb(210,90,80)\">3.1 Calculation (5 points): Expand the Expected Prediction Error.</h3>\n",
    "\n",
    "Expand $\\mathrm{EPE}(\\mathbf{x}_0)$, i.e. eq. (1) above, and write it as three separate terms."
   ]
  },
  {
   "cell_type": "markdown",
   "metadata": {
    "tags": [
     "Calculation1"
    ]
   },
   "source": [
    "Your calculation"
   ]
  },
  {
   "cell_type": "markdown",
   "metadata": {},
   "source": [
    "<h3 style=\"color:rgb(210,90,80)\">3.2 Calculation (2 points): Rewrite $\\operatorname{Var}(y\\!\\mid\\!\\mathbf{x}_0)$ using expected values. </h3>\n",
    "\n",
    "Write the model variance in terms of expectation values."
   ]
  },
  {
   "cell_type": "markdown",
   "metadata": {
    "tags": [
     "Calculation2"
    ]
   },
   "source": [
    "Your calculation"
   ]
  },
  {
   "cell_type": "markdown",
   "metadata": {},
   "source": [
    "<h3 style=\"color:rgb(210,90,80)\">3.3. Calculation (3 points): Expand the squared bias.</h3>\n",
    "\n",
    "Expand the squared bias and write it in three separate terms."
   ]
  },
  {
   "cell_type": "markdown",
   "metadata": {
    "tags": [
     "Calculation3"
    ]
   },
   "source": [
    "Your calculation"
   ]
  },
  {
   "cell_type": "markdown",
   "metadata": {},
   "source": [
    "<h3 style=\"color:rgb(210,90,80)\">3.4 Calculation (5 points): Expand the variance of the model.</h3>\n",
    "\n",
    "Write the model variance in (first three, then simplified to two) separate terms.\n",
    "\n",
    "(Eventually, you can see that adding up 3.2., 3.3., and 3.4., some terms cancel and exactly 3.1. remains.)"
   ]
  },
  {
   "cell_type": "markdown",
   "metadata": {
    "tags": [
     "Calculation4"
    ]
   },
   "source": [
    "Your calculation"
   ]
  },
  {
   "cell_type": "markdown",
   "metadata": {},
   "source": [
    "<h2 style=\"color:rgb(0,120,170)\">Task 4: Bias-variance decomposition for regression (40 points)</h2>"
   ]
  },
  {
   "cell_type": "markdown",
   "metadata": {},
   "source": [
    "<h3 style=\"color:rgb(210,90,80)\">4.1 Question (10 points):</h3>\n",
    "\n",
    "Consider the following one-dimensional regression task: inputs $x$ are\n",
    "sampled from the uniform distribution in $[−1, 3] \\subset \\mathbb{R}$ and targets $y$ are given as\n",
    "\n",
    "\\begin{align*}\n",
    "f(x) &= 0.6\\,x^4 + 2\\,x^3 - 8\\,x^2 \\\\\n",
    "y &= f(x) + \\varepsilon,\n",
    "\\end{align*}\n",
    "\n",
    "where $\\varepsilon$ is independent normally distributed noise with $\\mu=0$ and $\\sigma^2 = 0.09$. \n",
    "\n",
    "***What are $E(y\\!\\mid\\!x_0)$ and the unavoidable error $\\operatorname{Var}(y\\!\\mid\\!x_0)$ for a fixed $x_0$ in this setting?***\n",
    "\n",
    "e_)   $E(y\\!\\mid\\!x_0) = 0.6\\,\\sigma^4 + 2\\,\\sigma^3 - 8\\,\\sigma^2 \\text{    and    } \\operatorname{Var}(y\\!\\mid\\!x_0) = x_0^2$. <br>\n",
    "f_)   $E(y\\!\\mid\\!x_0) = 0.6\\,x_0^4 + 2\\,x_0^3 - 8\\,x_0^2 \\text{ and }\\operatorname{Var}(y\\!\\mid\\!x_0) = \\sigma^2$. <br>\n",
    "g_)   $E(y\\!\\mid\\!x_0) = 0.6\\,\\sigma^4 + 2\\,\\sigma^3 - 8\\,\\sigma^2 \\text{ and }  \\operatorname{Var}(y\\!\\mid\\!x_0) = \\sigma^2$. <br>\n",
    "h_)   $E(y\\!\\mid\\!x_0) = 0.6\\,x_0^4 + 2\\,x_0^3 - 8\\,x_0^2 \\text{    and    } \\operatorname{Var}(y\\!\\mid\\!x_0) = 0.6\\,x_0^4 + 2\\,x_0^3 - 8\\,x_0^2+\\sigma^2$.<br>\n",
    "\n",
    "To answer the question, assign \"True\" or \"False\" boolean values to variables in the next cell. A non-correctly answered question yields negative points and no answer (i.e. answer “None”) gives 0 points for a question. More details on grading can be found in the [FAQ sheet](https://docs.google.com/document/d/11ccAoEWh1APAoj79kGFiL64_7OL7RApPUHJ2-cvS2s0/edit?usp=sharing).<br>\n",
    "<b>Note:</b> Do not reuse these variable names. They are used for testing."
   ]
  },
  {
   "cell_type": "code",
   "execution_count": 50,
   "metadata": {
    "tags": [
     "Q1"
    ]
   },
   "outputs": [],
   "source": [
    "# your answers go here ↓↓↓\n",
    "e_=None\n",
    "f_=None\n",
    "g_=None\n",
    "h_=None"
   ]
  },
  {
   "cell_type": "markdown",
   "metadata": {},
   "source": [
    "We intend to perform polynomial regression to illustrate the bias-variance decomposition for the regression task described before. To this end, perform the following steps:\n",
    " * **Task 4.2**:\n",
    "    * Implement the function `create_train_X` which should return $k=200$ training sets with $l=20$ samples in the form of a numpy array.\n",
    "    * Implement the function `create_train_y` according to the function described at the beginning of this task.\n",
    "    * Below, we provide the code for a function that trains a polynomial regression model with degree $m$ on a given training set and returns the prediction for a given test set. Use this to implement the function `bias_var` that estimates for each degree $m=1,...,11$ the squared bias and the variance from the predictions for each of the $k=200$ training sets at $x_0=1.8$ and stores them in the lists sqbias and variance (which are already initiated as empty lists). Each of these two lists should then only contain $11$ elements.\n",
    " * **Task 4.3**: \n",
    "   * Utilize the function `pol_reg_pred` to produce <em>one</em> plot that simultaneously visualizes the training data as dots (plot only the <em>first</em> instance of the $k$ training sets, i.e. the 20 points from the first set) and the corresponding models for $m=1,3,11$. Don't forget to label the axes. Note: Make sure to produce the plot in the correct (second) cell.\n",
    "   * Finally, visualize your results in <em>one</em> plot where the dependence of the variance and squared bias versus $m$ is shown. Again, the axes should be labeled appropriately."
   ]
  },
  {
   "cell_type": "markdown",
   "metadata": {},
   "source": [
    "<h3 style=\"color:rgb(210,90,80)\">4.2 Code (15 points):</h3>"
   ]
  },
  {
   "cell_type": "code",
   "execution_count": null,
   "metadata": {
    "tags": [
     "poly_reg"
    ]
   },
   "outputs": [],
   "source": [
    "from sklearn.linear_model import LinearRegression\n",
    "from sklearn.preprocessing import PolynomialFeatures\n",
    "\n",
    "# some code that should help you\n",
    "# do not change the seed\n",
    "np.random.seed(14)\n",
    "\n",
    "def pol_reg_pred(X_train,y_train,X_test,m):\n",
    "    poly_reg = PolynomialFeatures(m)\n",
    "    X_poly_train = poly_reg.fit_transform(X_train.reshape(-1, 1))\n",
    "    X_poly_test= poly_reg.fit_transform(X_test.reshape(-1, 1))\n",
    "    lin_reg = LinearRegression()\n",
    "    lin_reg.fit(X_poly_train, y_train)\n",
    "    y_pred = lin_reg.predict(X_poly_test)\n",
    "    return y_pred\n",
    "\n",
    "def f(x):\n",
    "    return 0.6 * x**4 + 2 * x**3 - 8 * x**2\n",
    "\n",
    "def create_train_X(k,l):\n",
    "    \n",
    "    # replace the following line with your lines of code\n",
    "    raise NotImplementedError(\"You have not implemented this function\")\n",
    "    \n",
    "def create_train_y(k,l,X_train):\n",
    "    \n",
    "    # replace the following line with your lines of code\n",
    "    raise NotImplementedError(\"You have not implemented this function\")\n",
    "\n",
    "k = 200\n",
    "l = 20\n",
    "M = 11\n",
    "X_train = create_train_X(k,l)\n",
    "y_train = create_train_y(k,l,X_train)\n",
    "\n",
    "def bias_var(X_train,y_train): \n",
    "    x0 = np.array([1.8])\n",
    "    sqbias = []\n",
    "    variance = []\n",
    "    \n",
    "    # replace the following line with your lines of code\n",
    "    raise NotImplementedError(\"You have not implemented this function\")\n",
    "    \n",
    "    return (sqbias,variance)\n",
    "    \n",
    "sqbias, variance = bias_var(X_train,y_train)\n",
    "print(X_train.shape,y_train.shape)\n",
    "print(sqbias)\n",
    "print(variance)"
   ]
  },
  {
   "cell_type": "markdown",
   "metadata": {},
   "source": [
    "<h3 style=\"color:rgb(210,90,80)\">4.3 Code (10 points):</h3>"
   ]
  },
  {
   "cell_type": "code",
   "execution_count": 9,
   "metadata": {
    "tags": [
     "plots2"
    ]
   },
   "outputs": [],
   "source": [
    "# your code for the visualization (remember, you need to create two plots for this subtask)\n",
    "\n",
    "# example: plt.figure...\n",
    "# plt.plot..."
   ]
  },
  {
   "attachments": {
    "Bias_variance.jpg": {
     "image/jpeg": "[encoded data removed]"
    }
   },
   "cell_type": "markdown",
   "metadata": {},
   "source": [
    "<h3 style=\"color:rgb(210,90,80)\">4.4 Question (5 points):</h3>\n",
    "\n",
    "If you did the previous task correctly, the resulting plot should look like this:\n",
    "\n",
    "![Bias_variance.jpg](attachment:Bias_variance.jpg)    \n",
    "\n",
    "\n",
    "***What observations can you make from this plot? Tick the correct boxes (several may be correct):***\n",
    "\n",
    "\n",
    "i_)   The variance is lowest for models which are too simple, i.e. $m<3$. <br>\n",
    "j_) For appropriate complexity, i.e. $3 \\leq m < 7$, both model variance and bias are low, which indicates good generalization abilities.<br>\n",
    "k_)   As the model becomes too complex, i.e. $m \\geq 7$, the variance increases again while the bias still decreases. This is an indication for underfitting.<br>\n",
    "l_) For models with $m \\geq 7$, the variance is high (i.e. significantly larger than $0$) because the independent noise has zero mean and high individual biases cancel in expectation. <br>\n",
    "m_)  For models with $m \\geq 7$, the bias is still low (i.e. close to $0$) because the independent noise has zero mean and high individual biases cancel in expectation. <br>\n",
    "\n",
    "To answer the question, assign \"True\" or \"False\" boolean values to variables in the next cell. A non-correctly answered question yields negative points and no answer (i.e. answer “None”) gives 0 points for a question. More details on grading can be found in the [FAQ sheet](https://docs.google.com/document/d/11ccAoEWh1APAoj79kGFiL64_7OL7RApPUHJ2-cvS2s0/edit?usp=sharing).<br>\n",
    "<b>Note:</b> Do not reuse these variable names. They are used for testing."
   ]
  },
  {
   "cell_type": "code",
   "execution_count": 11,
   "metadata": {
    "tags": [
     "Q2"
    ]
   },
   "outputs": [],
   "source": [
    "# your answers go here ↓↓↓\n",
    "i_=None\n",
    "j_=None\n",
    "k_=None\n",
    "l_=None\n",
    "m_=None"
   ]
  },
  {
   "cell_type": "markdown",
   "metadata": {},
   "source": [
    "<h2 style=\"color:rgb(0,120,170)\">Task 5: Evaluation metrics for imbalanced data sets (15 points)</h2>"
   ]
  },
  {
   "cell_type": "markdown",
   "metadata": {},
   "source": [
    "Consider a classifier with discriminant function $\\bar g$.\n",
    "For a given labeled data set, the following results are obtained:\n",
    "$$\\begin{array}{|r|r|}\n",
    "\\hline\n",
    "y & \\bar g(x)\\\\\n",
    "\\hline \\hline\n",
    " +1 & 0.93 \\\\\n",
    " +1 & 0.51 \\\\\n",
    " +1 & 0.48 \\\\\n",
    " -1 & 0.13 \\\\\n",
    " +1 & 0.02 \\\\\n",
    " -1 & -0.11 \\\\\n",
    " -1 & -0.25 \\\\\n",
    " -1 & -0.37 \\\\\n",
    " +1 & -0.41 \\\\\n",
    " -1 & -1.68 \\\\\n",
    " +1 & -2.23 \\\\\n",
    "\\hline\n",
    "\\end{array}$$\n",
    "\n",
    "* **Task 5.1**: Compute the confusion matrix using the usual zero threshold.\n",
    "Complete the given function to calculate the following evaluation measures:\n",
    "ACC, TPR, TNR, FPR, FNR, PREC, and $F_1$, and store the exact results in the respective variables."
   ]
  },
  {
   "cell_type": "markdown",
   "metadata": {},
   "source": [
    "<h3 style=\"color:rgb(210,90,80)\">5.1 Calculation (8 points):</h3>"
   ]
  },
  {
   "cell_type": "markdown",
   "metadata": {},
   "source": [
    "* <b>Reminder:</b> Confusion Matrix structure:\n",
    "\n",
    "$$\n",
    "\\begin{array}{|c|c|c|}\n",
    "\\hline\n",
    " &\\bar g(x)=+1  & \\bar g(x)=-1\\\\\n",
    " \\hline\n",
    " y=+1 & \\text{TP}  & \\text{FN} \\\\\n",
    " \\hline\n",
    " y=-1 & \\text{FP} & \\text{TN} \\\\\n",
    "\\hline\n",
    "\\end{array}\n",
    "$$"
   ]
  },
  {
   "cell_type": "code",
   "execution_count": null,
   "metadata": {
    "tags": [
     "calculation1"
    ]
   },
   "outputs": [],
   "source": [
    "# confusion matrix\n",
    "_TP = 0\n",
    "_TN = 0\n",
    "_FP = 0\n",
    "_FN = 0\n",
    "\n",
    "# evaluation measures\n",
    "def evaluate_measures(TP,TN,FP,FN): \n",
    "    \n",
    "    # replace the following line with your lines of code\n",
    "    raise NotImplementedError(\"You have not implemented this function\")\n",
    "    \n",
    "    return (ACC,TPR,TNR,FPR,FNR,PREC,BACC,F1)\n",
    "    \n",
    "_ACC,_TPR,_TNR,_FPR,_FNR,_PREC,_BACC,_F1 = evaluate_measures(_TP,_TN,_FP,_FN)\n",
    "\n",
    "print(\"ACC: {:.3f}\\nTPR: {:.3f}\\nTNR: {:.3f}\\nFPR: {:.3f}\\nFNR: {:.3f}\\nPREC: {:.3f}\\nBACC: {:.3f}\\nF1: {:.3f}\".format(_ACC,_TPR,_TNR,_FPR,_FNR,_PREC,_BACC,_F1))"
   ]
  },
  {
   "cell_type": "markdown",
   "metadata": {},
   "source": [
    "Let's say we have a population of 1000 people and we know that 50 are infected with the corona virus.\n",
    "* **Task 5.2**: Assume that the population is tested with an assay that has a certain specificity and sensitivity. What is the probability that a person is *not* infected if they are diagnosed as ill by the test? Write a function that returns the desired value. Then check your calculation using specificity of $97 \\%$ and sensitivity of $98 \\%$.\n",
    "\n",
    "**Note**: Round your result to 3 decimal points, i.e. 0.987 if its 98.7%"
   ]
  },
  {
   "cell_type": "markdown",
   "metadata": {},
   "source": [
    "<h3 style=\"color:rgb(210,90,80)\">5.2 Calculation (7 points):</h3>"
   ]
  },
  {
   "cell_type": "code",
   "execution_count": null,
   "metadata": {
    "tags": [
     "calculation2"
    ]
   },
   "outputs": [],
   "source": [
    "\"\"\"\n",
    "This function should return the desired probability. \n",
    "@param spec, float, specificity\n",
    "@param sens, float, sensitivity\n",
    "@param pop, int, population\n",
    "@param inf, int, infected\n",
    "\"\"\"\n",
    "def calc_prob(spec,sens,pop,inf):\n",
    "    population = pop\n",
    "    infected = inf\n",
    "    \n",
    "    # replace the following line with your lines of code\n",
    "    raise NotImplementedError(\"You have not implemented this function\")\n",
    "    \n",
    "_result = calc_prob(0.97,0.98,1000,50)\n",
    "print(\"The probability that a person who is tested positive is in fact not infected is {}\".format(_result))"
   ]
  },
  {
   "cell_type": "code",
   "execution_count": 73,
   "metadata": {
    "tags": [
     "exec"
    ]
   },
   "outputs": [
    {
     "name": "stdout",
     "output_type": "stream",
     "text": [
      "Executable\n"
     ]
    }
   ],
   "source": [
    "# executability check\n",
    "est_mean_cov(X,y)\n",
    "calc_par_A(np.eye(2),np.ones(shape=2),np.eye(2),np.ones(shape=2),1,1)\n",
    "calc_par_b(np.eye(2),np.ones(shape=2),np.eye(2),np.ones(shape=2),1,1)\n",
    "calc_par_c(np.eye(2),np.ones(shape=2),np.eye(2),np.ones(shape=2),1,1)\n",
    "calc_func_g(np.ones(shape=(2,2)),np.ones(2),1,np.ones(shape=(250000,2)))\n",
    "create_train_X(1,1)\n",
    "create_train_y(1,1,np.ones((200,20)))\n",
    "bias_var(np.ones((200,20)),np.ones((200,20)))\n",
    "evaluate_measures(1,1,1,1)\n",
    "calc_prob(1,1,1,1)\n",
    "print(\"Executable\")"
   ]
  }
 ],
 "metadata": {
  "celltoolbar": "Tags",
  "kernelspec": {
   "display_name": "Python 3 (ipykernel)",
   "language": "python",
   "name": "python3"
  },
  "language_info": {
   "codemirror_mode": {
    "name": "ipython",
    "version": 3
   },
   "file_extension": ".py",
   "mimetype": "text/x-python",
   "name": "python",
   "nbconvert_exporter": "python",
   "pygments_lexer": "ipython3",
   "version": "3.10.7"
  },
  "vscode": {
   "interpreter": {
    "hash": "25a19fbe0a9132dfb9279d48d161753c6352f8f9478c2e74383d340069b907c3"
   }
  }
 },
 "nbformat": 4,
 "nbformat_minor": 4
}
