{
 "cells": [
  {
   "cell_type": "markdown",
   "metadata": {
    "colab_type": "text",
    "id": "ou8e20tzDq-p",
    "tags": [
     "text"
    ]
   },
   "source": [
    "<h1 style=\"color:rgb(0,120,170)\">Assignment 8: CNNs </h1>"
   ]
  },
  {
   "cell_type": "markdown",
   "metadata": {
    "colab_type": "text",
    "id": "bPJ2o5SWDq-u",
    "tags": [
     "text"
    ]
   },
   "source": [
    "This material, no matter whether in printed or electronic form, may be used for personal and non-commercial educational use only. Any reproduction of this material, no matter whether as a whole or in parts, no matter whether in printed or in electronic form, requires explicit prior acceptance of the authors"
   ]
  },
  {
   "cell_type": "markdown",
   "metadata": {
    "tags": [
     "text"
    ]
   },
   "source": [
    "<h2 style=\"color:rgb(0,120,170)\">Automatic Testing Guidelines</h2>\n",
    "\n",
    "Automatic unittesting requires you, as a student, to submit a notebook which contains strictly defined objects.\n",
    "Strictness of definition consists of unified shapes, dtypes, variable names and more.\n",
    "\n",
    "Within the notebook, we provide detailed instruction which you should follow in order to maximise your final grade.\n",
    "\n",
    "**Name your notebook properly**, follow the pattern in the template name:\n",
    "\n",
    "**Assignment_N_NameSurname_matrnumber**\n",
    "<ol>\n",
    "    <li>N - number of assignment</li>\n",
    "    <li>NameSurname - your full name where every part of the name starts with a capital letter, no spaces</li>\n",
    "    <li>matrnumber - you student number on ID card (without k, potenitially with a leading zero)</li>\n",
    "</ol>\n",
    "\n",
    "Don't add any cells but use the ones provided by us. You may notice that most cells are tagged such that the unittest routine can recognise them.\n",
    "\n",
    "We highly recommend you to develop your code within the provided cells. You can implement helper functions where needed unless you put them in the same cell they are actually called. Always make sure that implemented functions have the correct output and given variables contain the correct data type.\n",
    "\n",
    "**Note:** Never use variables you defined in another cell in your functions directly; always pass them to the function as a parameter. In the unitest they won't be available either."
   ]
  },
  {
   "cell_type": "markdown",
   "metadata": {
    "colab_type": "text",
    "id": "5l0Io1_2Dq-v",
    "tags": [
     "text"
    ]
   },
   "source": [
    "<h2 style=\"color:rgb(0,120,170)\">Task 1: Explicit Computation of CNNs</h2>\n",
    "\n",
    "\n"
   ]
  },
  {
   "cell_type": "markdown",
   "metadata": {
    "colab_type": "text",
    "id": "ofipfzlXDq-w",
    "tags": [
     "text"
    ]
   },
   "source": [
    "<h2 style=\"color:rgb(0,120,170)\">Task 1.1: Convolution and Stride</h2>\n",
    "\n",
    "In this task, you should do some computuations for CNNs explicitly to gain further understanding how the corresponding operations work. Your are not allowed to use any other modules than numpy for all the problems in task 1.\n",
    "\n",
    "Assume you are given the following input image, represented as $\\mathbf{x}=\\begin{pmatrix} 1 & 0 & 1 & 1 & 0 & 0 \\\\ 0 & 1 & 1 & 0 & 0 & 0 \\\\ 0 & 1 & 0 & 1 & 1 & 0 \\\\ 1 & 1 & 0 & 1 & 1 & 1 \\\\ 0 & 1 & 1 & 1 & 0 & 0 \\\\ 1 & 1 & 1 & 0 & 0 & 1  \\end{pmatrix}$.\n",
    "* Consider the filter $\\mathbf{W}=\\begin{pmatrix} 1 & 1 & 1 \\\\ 0 & 2 & 0 \\\\ 1 & 1 & 1 \\end{pmatrix}$ and compute $\\mathbf{s}=\\mathbf{W} * \\mathbf{x}$. To do this, implement the function `compute_convolution` which computes the output.\n",
    "* Now add the functionality of using the stride parameter to the function and test it for $S=2$."
   ]
  },
  {
   "cell_type": "markdown",
   "metadata": {
    "colab_type": "text",
    "id": "nFiR4YBCDq-w",
    "tags": [
     "text"
    ]
   },
   "source": [
    "<h3 style=\"color:rgb(208,90,80)\">1.1 Code (30 points)</h3>"
   ]
  },
  {
   "cell_type": "code",
   "execution_count": 1,
   "metadata": {
    "tags": [
     "variables"
    ]
   },
   "outputs": [],
   "source": [
    "import numpy as np\n",
    "image = np.array([[1,0,1,1,0,0],[0,1,1,0,0,0],[0,1,0,1,1,0],[1,1,0,1,1,1],[0,1,1,1,0,0],[1,1,1,0,0,1]])\n",
    "filter_ = np.array([[1,1,1],[0,2,0],[1,1,1]])"
   ]
  },
  {
   "cell_type": "code",
   "execution_count": 2,
   "metadata": {
    "tags": [
     "convolution"
    ]
   },
   "outputs": [],
   "source": [
    "\"\"\"\n",
    "Function that computes convolution of image array\n",
    "@param image, np.array, image data\n",
    "@param filter_, np.array, filter\n",
    "@stride, integer, indictates the amount of striding\n",
    "\n",
    "@output convolved, np.array, result of convolution\n",
    "\"\"\"\n",
    "def compute_convolution(image,filter_,stride):\n",
    "    width=int((image.shape[0]-filter_.shape[0])/stride+1)\n",
    "    height=int((image.shape[1]-filter_.shape[1])/stride+1)\n",
    "    convolved=np.zeros((width,height))\n",
    "    ci,cj=0,0\n",
    "        \n",
    "    for i in range(0,image.shape[0],stride):\n",
    "        if i>image.shape[0]-filter_.shape[0]:\n",
    "            break\n",
    "        cj=0\n",
    "        for j in range(0,image.shape[1],stride):\n",
    "            if j>image.shape[1]-filter_.shape[1]:\n",
    "                break\n",
    "            img=image[i:i+filter_.shape[0],j:j+filter_.shape[1]]\n",
    "            convolved[ci,cj]=np.sum(np.multiply(img,filter_))\n",
    "            cj+=1\n",
    "        ci+=1\n",
    "    return convolved"
   ]
  },
  {
   "cell_type": "code",
   "execution_count": 3,
   "metadata": {
    "tags": [
     "exec"
    ]
   },
   "outputs": [
    {
     "name": "stdout",
     "output_type": "stream",
     "text": [
      "[[5. 6. 4. 3.]\n",
      " [6. 4. 5. 5.]\n",
      " [5. 5. 6. 5.]\n",
      " [7. 6. 5. 4.]]\n",
      "[[5. 3.]\n",
      " [7. 4.]]\n"
     ]
    }
   ],
   "source": [
    "print(compute_convolution(image,filter_,1))\n",
    "print(compute_convolution(image,filter_,3))"
   ]
  },
  {
   "cell_type": "markdown",
   "metadata": {
    "tags": [
     "text"
    ]
   },
   "source": [
    "<h2 style=\"color:rgb(0,120,170)\">Task 1.2: Pooling</h2>"
   ]
  },
  {
   "cell_type": "markdown",
   "metadata": {
    "tags": [
     "text"
    ]
   },
   "source": [
    "After convolution layers, you usually find pooling layers in CNNs to reduce the input size for further layers. To this end, we ask you to implement your own pooling function as well.\n",
    "\n",
    "* Implement the function `max_pooling()` which applies max-pooling to an input image.\n",
    "* Now also implement the function `mean_pooling()`, which instead of taking the maximum value in the window calculates the mean for each output entry.\n",
    "\n",
    "**Hint:** You can reuse big parts of the previous task for this. "
   ]
  },
  {
   "cell_type": "markdown",
   "metadata": {
    "tags": [
     "text"
    ]
   },
   "source": [
    "<h3 style=\"color:rgb(208,90,80)\">1.2 Code (15 points)</h3>"
   ]
  },
  {
   "cell_type": "code",
   "execution_count": 4,
   "metadata": {
    "tags": [
     "maxpooling"
    ]
   },
   "outputs": [],
   "source": [
    "\"\"\"\n",
    "Function that applies max pooling on image\n",
    "@param image, np.array, image data\n",
    "@pooling_size, integer, indicates the size of the pooling \"kernel\"\n",
    "\n",
    "@output pooled, np.array, output of pooling operation\n",
    "\"\"\"\n",
    "def max_pooling(image,pooling_size):\n",
    "    width=int((image.shape[0]-pooling_size)/1+1)\n",
    "    height=int((image.shape[1]-pooling_size)/1+1)\n",
    "    pooled=np.zeros((width,height))\n",
    "    ci,cj=0,0\n",
    "    \n",
    "    for i in range(0,image.shape[0]):\n",
    "        if i>image.shape[0]-pooling_size:\n",
    "            break\n",
    "        cj=0\n",
    "        for j in range(0,image.shape[1]):\n",
    "            if j>image.shape[1]-pooling_size:\n",
    "                break\n",
    "            img=image[i:i+pooling_size,j:j+pooling_size]\n",
    "            pooled[i,j]=np.amax(img)\n",
    "            cj+=1\n",
    "        ci+=1\n",
    "    return pooled"
   ]
  },
  {
   "cell_type": "code",
   "execution_count": 5,
   "metadata": {
    "tags": [
     "meanpooling"
    ]
   },
   "outputs": [],
   "source": [
    "\"\"\"\n",
    "Function that applies mean pooling on image\n",
    "@param image, np.array, image data\n",
    "@pooling_size, integer, indicates the size of the pooling \"kernel\"\n",
    "\n",
    "@output pooled, np.array, output of pooling operation\n",
    "\"\"\"\n",
    "def mean_pooling(image,pooling_size):\n",
    "    width=int((image.shape[0]-pooling_size)/1+1)\n",
    "    height=int((image.shape[1]-pooling_size)/1+1)\n",
    "    pooled=np.zeros((width,height))\n",
    "    ci,cj=0,0\n",
    "    \n",
    "    for i in range(0,image.shape[0]):\n",
    "        if i>image.shape[0]-pooling_size:\n",
    "            break\n",
    "        cj=0\n",
    "        for j in range(0,image.shape[1]):\n",
    "            if j>image.shape[1]-pooling_size:\n",
    "                break\n",
    "            img=image[i:i+pooling_size,j:j+pooling_size]\n",
    "            pooled[ci,cj]=np.mean(img)\n",
    "            cj+=1\n",
    "        ci+=1\n",
    "    return pooled"
   ]
  },
  {
   "cell_type": "code",
   "execution_count": 6,
   "metadata": {
    "tags": [
     "exec"
    ]
   },
   "outputs": [
    {
     "name": "stdout",
     "output_type": "stream",
     "text": [
      "[[1. 1. 1. 1. 0.]\n",
      " [1. 1. 1. 1. 1.]\n",
      " [1. 1. 1. 1. 1.]\n",
      " [1. 1. 1. 1. 1.]\n",
      " [1. 1. 1. 1. 1.]]\n",
      "[[0.5  0.75 0.75 0.25 0.  ]\n",
      " [0.5  0.75 0.5  0.5  0.25]\n",
      " [0.75 0.5  0.5  1.   0.75]\n",
      " [0.75 0.75 0.75 0.75 0.5 ]\n",
      " [0.75 1.   0.75 0.25 0.25]]\n"
     ]
    }
   ],
   "source": [
    "print(max_pooling(image,2))\n",
    "print(mean_pooling(image,2))"
   ]
  },
  {
   "cell_type": "markdown",
   "metadata": {
    "tags": [
     "text"
    ]
   },
   "source": [
    "<h2 style=\"color:rgb(0,120,170)\">Task 1.3: Zero-Padding</h2>"
   ]
  },
  {
   "cell_type": "markdown",
   "metadata": {
    "tags": [
     "text"
    ]
   },
   "source": [
    "Right now, our implementation for the convolution will decrease the image size in any case, but often one wants to end up with a specific dimension in the end. Therefore we need to manipulate the given image in order to be able to apply the convolution in a way that delivers the desired output.\n",
    "\n",
    "* Implement the function `compute_padding()` which calculates the needed zero padding given the original size, kernel (=filter) size and a stride parameter to end up with some desired size of the feature map in the end. You can assume that height = widht for all entities. Keep in mind that only an integer solution will make sense in this case, so if the result is not an integer, return \"False\".\n",
    "\n",
    "* Implement the function `zero_padding()` which pads the given image by a certain number of rows/columns of zeros (in each direction)\n",
    "\n",
    "* Exectute/Print the functions for the given specific choice of parameters."
   ]
  },
  {
   "cell_type": "markdown",
   "metadata": {
    "tags": [
     "text"
    ]
   },
   "source": [
    "<h3 style=\"color:rgb(208,90,80)\">1.3 Code (15 points)</h3>"
   ]
  },
  {
   "cell_type": "code",
   "execution_count": 7,
   "metadata": {
    "tags": [
     "padding"
    ]
   },
   "outputs": [],
   "source": [
    "\"\"\"\n",
    "Function that computes necessary padding to apply convolution in the desired manner\n",
    "@param input_size, integer, size of input\n",
    "@param feature_size, integer, size of feature map (the size of the output)\n",
    "@param filter_size, integer, size of the filter\n",
    "@stride, integer, striding parameter for convolution\n",
    "\n",
    "@output if result of calculation is integer: int\n",
    "        else: False\n",
    "\"\"\"\n",
    "def compute_padding(input_size,feature_size,filter_size,stride): \n",
    "    padding=((feature_size-1)*stride-input_size+filter_size)/2\n",
    "    if padding.is_integer() is True:\n",
    "        return int(padding)\n",
    "    return False"
   ]
  },
  {
   "cell_type": "code",
   "execution_count": 8,
   "metadata": {
    "tags": [
     "zeropadding"
    ]
   },
   "outputs": [],
   "source": [
    "\"\"\"\n",
    "Function that pads image\n",
    "@param image, np.array, image array\n",
    "@param pad_size, integer, amount of padding (on each side of the image)\n",
    "\n",
    "@output padded, np.array, the padded array\n",
    "\"\"\"\n",
    "def zero_padding(image,pad_size):\n",
    "    padded=np.pad(image,pad_size,mode='constant',constant_values=0)\n",
    "    return padded"
   ]
  },
  {
   "cell_type": "code",
   "execution_count": 9,
   "metadata": {
    "tags": [
     "exec"
    ]
   },
   "outputs": [
    {
     "name": "stdout",
     "output_type": "stream",
     "text": [
      "The necessary amount of padding is 4\n",
      "[[0 0 0 0 0 0 0 0 0 0 0 0 0 0]\n",
      " [0 0 0 0 0 0 0 0 0 0 0 0 0 0]\n",
      " [0 0 0 0 0 0 0 0 0 0 0 0 0 0]\n",
      " [0 0 0 0 0 0 0 0 0 0 0 0 0 0]\n",
      " [0 0 0 0 1 0 1 1 0 0 0 0 0 0]\n",
      " [0 0 0 0 0 1 1 0 0 0 0 0 0 0]\n",
      " [0 0 0 0 0 1 0 1 1 0 0 0 0 0]\n",
      " [0 0 0 0 1 1 0 1 1 1 0 0 0 0]\n",
      " [0 0 0 0 0 1 1 1 0 0 0 0 0 0]\n",
      " [0 0 0 0 1 1 1 0 0 1 0 0 0 0]\n",
      " [0 0 0 0 0 0 0 0 0 0 0 0 0 0]\n",
      " [0 0 0 0 0 0 0 0 0 0 0 0 0 0]\n",
      " [0 0 0 0 0 0 0 0 0 0 0 0 0 0]\n",
      " [0 0 0 0 0 0 0 0 0 0 0 0 0 0]]\n"
     ]
    }
   ],
   "source": [
    "print(\"The necessary amount of padding is {}\".format(compute_padding(5,6,3,2)))\n",
    "print(zero_padding(image,compute_padding(5,6,3,2)))"
   ]
  },
  {
   "cell_type": "markdown",
   "metadata": {
    "tags": [
     "text"
    ]
   },
   "source": [
    "<h2 style=\"color:rgb(0,120,170)\">Task 1.4: The Whole Process</h2>"
   ]
  },
  {
   "cell_type": "markdown",
   "metadata": {
    "tags": [
     "text"
    ]
   },
   "source": [
    "Now everything should be in place and we can combine the implemented solution into one pipeline.\n",
    "\n",
    "* Implement the function `image_process()` which takes an image, filter and a stride parameter as input and first computes the convolution followed by Max-Pooling. Keep in mind, that the image might have to be padded before application of the convolution.\n",
    "\n",
    "**Note:** You can still assume that both image and kernel are quadratic (i.e. height = width)."
   ]
  },
  {
   "cell_type": "markdown",
   "metadata": {
    "tags": [
     "text"
    ]
   },
   "source": [
    "<h3 style=\"color:rgb(208,90,80)\">1.4 Code (10 points)</h3>"
   ]
  },
  {
   "cell_type": "code",
   "execution_count": 10,
   "metadata": {
    "tags": [
     "process"
    ]
   },
   "outputs": [],
   "source": [
    "\"\"\"\n",
    "Function that processes an image. It first calculates the necessary padding, if padding is possible (integer) it\n",
    "performs the padding, followed by convolution and pooling\n",
    "@param image, np.array, image data\n",
    "@param feature_size, integer, size of feature map (the size of the output) before(!) pooling\n",
    "@param filter_, np.array, filter\n",
    "@param stride, integer, indictates the amount of striding\n",
    "@param pooling_size, integer, indicates the size of the pooling \"kernel\"\n",
    "\n",
    "@output if padding is possible (integer): result, np.array, result of all this processes\n",
    "        else: False\n",
    "\"\"\"\n",
    "\n",
    "def image_process(image,feature_size,filter_,stride,pooling_size):\n",
    "    padding_size=compute_padding(image.shape[0],feature_size,filter_.shape[0],stride)\n",
    "    if padding_size is not False:\n",
    "        image=zero_padding(image,padding_size)\n",
    "    convolved=compute_convolution(image,filter_,stride)\n",
    "    result=max_pooling(convolved,pooling_size)\n",
    "    \n",
    "    return result"
   ]
  },
  {
   "cell_type": "code",
   "execution_count": 11,
   "metadata": {
    "tags": [
     "exec"
    ]
   },
   "outputs": [
    {
     "name": "stdout",
     "output_type": "stream",
     "text": [
      "[[5. 6. 6. 4. 3.]\n",
      " [6. 6. 6. 5. 5.]\n",
      " [6. 6. 6. 6. 5.]\n",
      " [7. 7. 6. 6. 5.]\n",
      " [7. 7. 6. 5. 4.]]\n",
      "[[5. 5. 5. 3.]\n",
      " [7. 7. 7. 4.]\n",
      " [7. 7. 7. 4.]\n",
      " [7. 7. 7. 4.]]\n"
     ]
    }
   ],
   "source": [
    "print(image_process(image,6,filter_,1,2))\n",
    "print(image_process(image,6,filter_,3,3))"
   ]
  },
  {
   "cell_type": "markdown",
   "metadata": {
    "colab_type": "text",
    "id": "ThpuXicXDq-x",
    "tags": [
     "text"
    ]
   },
   "source": [
    "<h2 style=\"color:rgb(0,120,170)\">Task 2: CNNs vs. the Rest</h2>"
   ]
  },
  {
   "cell_type": "markdown",
   "metadata": {
    "colab_type": "text",
    "id": "JKF1LOgqYLSg",
    "tags": [
     "text"
    ]
   },
   "source": [
    "In this task, we will carry out a comparison of several classifiers on different portions of the FashionMNIST data set. From the whole training data we create smaller training sets that have $[0.05,0.10,0.25, 0.50, 1.00]$ times the the size of the total set. Compared to the previous assignment, the data loader is modified a little so that it outputs different formats for the computations with Pytorch, where we use tensors, and sklearn, where we use numpy arrays.\n",
    "\n",
    "To save computation time, you may leave the CALCULATE_ALL variable to False."
   ]
  },
  {
   "cell_type": "code",
   "execution_count": 12,
   "metadata": {
    "tags": [
     "calculate"
    ]
   },
   "outputs": [],
   "source": [
    "CALCULATE_ALL = False ## if True recalculate all entries in experiments, otherwise just the result for 5% and 10% data"
   ]
  },
  {
   "cell_type": "code",
   "execution_count": 13,
   "metadata": {
    "colab": {},
    "colab_type": "code",
    "id": "h6-awJvdDq-x",
    "tags": [
     "imports"
    ]
   },
   "outputs": [],
   "source": [
    "import torch\n",
    "import torch.nn as nn\n",
    "import torch.nn.functional as F\n",
    "from torch.autograd import Variable\n",
    "import torch.optim as optim\n",
    "from torchvision import datasets, transforms\n",
    "from types import SimpleNamespace\n",
    "import matplotlib.pyplot as plt\n",
    "import numpy as np\n",
    "import os\n",
    "import time\n",
    "from sklearn.svm import SVC\n",
    "from sklearn.tree import DecisionTreeClassifier\n",
    "from sklearn.ensemble import RandomForestClassifier\n",
    "\n",
    "from IPython.display import clear_output, display"
   ]
  },
  {
   "cell_type": "code",
   "execution_count": 14,
   "metadata": {
    "colab": {},
    "colab_type": "code",
    "id": "PPJI5ZnxDq-z",
    "tags": [
     "setting"
    ]
   },
   "outputs": [],
   "source": [
    "int_classes = int \n",
    "seed = 42\n",
    "torch.manual_seed(seed)\n",
    "np.random.seed(seed)\n",
    "use_cuda = torch.cuda.is_available()\n",
    "device = torch.device('cuda' if use_cuda else 'cpu')"
   ]
  },
  {
   "cell_type": "code",
   "execution_count": 15,
   "metadata": {
    "colab": {
     "base_uri": "https://localhost:8080/",
     "height": 275
    },
    "colab_type": "code",
    "id": "9IVEE1WYDq-1",
    "outputId": "cb55cb33-b398-4390-ade8-cb4a68b07aa0",
    "scrolled": true,
    "tags": [
     "sampler"
    ]
   },
   "outputs": [],
   "source": [
    "### use Pytorch dataloader with a subset of the training data\n",
    "def get_sampler(N_samples):  \n",
    "    mask = list(np.arange(N_samples))  ## list of valid sample_ids\n",
    "    return torch.utils.data.RandomSampler(mask) ## random order\n",
    "\n",
    "def get_data_loader(use_cuda,batch_size=64,train=True,get_all=False,sampler=None):\n",
    "    kwargs = {'num_workers': 1, 'pin_memory': True} if use_cuda else {}\n",
    "    loader = torch.utils.data.DataLoader(\n",
    "        #datasets.FashionMNIST(os.path.join('.','..','data')\n",
    "        datasets.FashionMNIST(os.path.join('data')\n",
    "                            ,train=train, download=True,\n",
    "                       transform=transforms.Compose([\n",
    "                           transforms.ToTensor(),\n",
    "                           transforms.Normalize((0.2859,), (0.3530,))\n",
    "                       ])), shuffle=False, sampler=sampler, batch_size=batch_size,**kwargs)\n",
    "    ## return numpy arrays of the dataset\n",
    "    if get_all: \n",
    "        for _, (train_samples, train_labels) in enumerate(loader):\n",
    "            return train_samples.numpy().reshape(-1,28*28),train_labels.numpy()\n",
    "    ## return loader to provide minibatches\n",
    "    else:\n",
    "        return loader\n",
    "\n",
    "### prepare data for sklearn models\n",
    "train_samples, train_labels = get_data_loader(use_cuda,batch_size=6*10**4,train=True,get_all = True)\n",
    "test_samples, test_labels = get_data_loader(use_cuda,batch_size=10**4,train=False,get_all = True)"
   ]
  },
  {
   "cell_type": "markdown",
   "metadata": {
    "colab_type": "text",
    "id": "aqjz-K2QYLSr",
    "tags": [
     "text"
    ]
   },
   "source": [
    "Now we want to apply different models to our prepared data. We also want to print and store accuracy, training time and inference time, so these should be our results. In the dictionary \"experiments\", we want to store these informations in an array for the different models and different training data sizes. Just run the code in oder to understand better what is meant exactly."
   ]
  },
  {
   "cell_type": "code",
   "execution_count": 16,
   "metadata": {
    "colab": {
     "base_uri": "https://localhost:8080/",
     "height": 510
    },
    "colab_type": "code",
    "id": "1RY4eW83Dq-3",
    "outputId": "94cb6f0f-a85d-417e-913f-59812c9509dd",
    "tags": [
     "dictionary"
    ]
   },
   "outputs": [
    {
     "name": "stderr",
     "output_type": "stream",
     "text": [
      "C:\\Users\\andua\\AppData\\Local\\Temp\\ipykernel_20296\\3112505836.py:5: DeprecationWarning: `np.int` is a deprecated alias for the builtin `int`. To silence this warning, use `int` by itself. Doing this will not modify any behavior and is safe. When replacing `np.int`, you may wish to use e.g. `np.int64` or `np.int32` to specify the precision. If you wish to review your current use, check the release note link for additional information.\n",
      "Deprecated in NumPy 1.20; for more details and guidance: https://numpy.org/devdocs/release/1.20.0-notes.html#deprecations\n",
      "  experiments[\"N_samples\"] = (60000 * experiments[\"percentages\"]).astype(np.int)\n"
     ]
    },
    {
     "data": {
      "text/plain": [
       "{'percentages': array([0.05, 0.1 , 0.25, 0.5 , 1.  ]),\n",
       " 'N_samples': array([3000, 6000]),\n",
       " 'RF_100': {'accuracy': array([ 0.  ,  0.  , 85.67, 86.76, 87.77]),\n",
       "  'training_time': array([ 0.  ,  0.  , 13.22, 29.77, 67.63]),\n",
       "  'inference_time': array([0.  , 0.  , 0.32, 0.35, 0.4 ])},\n",
       " 'RF_500': {'accuracy': array([ 0.  ,  0.  , 85.97, 86.97, 87.86]),\n",
       "  'training_time': array([  0.  ,   0.  ,  65.26, 148.64, 337.84]),\n",
       "  'inference_time': array([0.  , 0.  , 1.53, 1.72, 1.95])},\n",
       " 'SVM': {'accuracy': array([ 0.  ,  0.  , 86.14, 87.03, 88.28]),\n",
       "  'training_time': array([  0.  ,   0.  ,  40.43, 130.63, 433.99]),\n",
       "  'inference_time': array([  0.  ,   0.  ,  49.58,  88.61, 157.68])},\n",
       " 'CNN_simple': {'accuracy': array([ 0.  ,  0.  , 83.28, 85.66, 87.9 ]),\n",
       "  'training_time': array([  0.  ,   0.  ,  40.76,  80.33, 162.19]),\n",
       "  'inference_time': array([0.  , 0.  , 1.29, 1.35, 1.32])},\n",
       " 'CNN_wide': {'accuracy': array([ 0.  ,  0.  , 84.83, 86.7 , 90.48]),\n",
       "  'training_time': array([  0.  ,   0.  ,  40.6 ,  81.93, 160.84]),\n",
       "  'inference_time': array([0.  , 0.  , 1.32, 1.33, 1.35])},\n",
       " 'CNN_deep': {'accuracy': array([ 0.  ,  0.  , 88.95, 90.08, 91.86]),\n",
       "  'training_time': array([  0.  ,   0.  ,  42.48,  82.38, 162.91]),\n",
       "  'inference_time': array([0.  , 0.  , 1.34, 1.31, 1.32])},\n",
       " 'CNN_wide_max': {'accuracy': array([ 0.  ,  0.  , 89.57, 90.12, 91.02]),\n",
       "  'training_time': array([  0.  ,   0.  ,  41.09,  82.07, 161.16]),\n",
       "  'inference_time': array([0.  , 0.  , 1.3 , 1.36, 1.33])}}"
      ]
     },
     "execution_count": 16,
     "metadata": {},
     "output_type": "execute_result"
    }
   ],
   "source": [
    "models = [\"RF_100\",\"RF_500\",\"SVM\",\"CNN_simple\",\"CNN_wide\",\"CNN_deep\",\"CNN_wide_max\"]\n",
    "results = [\"accuracy\",\"training_time\",\"inference_time\"]\n",
    "experiments = {}\n",
    "experiments[\"percentages\"] = np.array([0.05,0.10,0.25,0.50,1.00])\n",
    "experiments[\"N_samples\"] = (60000 * experiments[\"percentages\"]).astype(np.int)\n",
    "\n",
    "for k in models:\n",
    "    experiments[k] = {}\n",
    "    for l in results:\n",
    "        experiments[k][l] = np.zeros([len(experiments[\"N_samples\"])])\n",
    "        \n",
    "## to save time, you can use precomputed values for the larger subsets\n",
    "if not CALCULATE_ALL:\n",
    "    experiments[\"N_samples\"] = experiments[\"N_samples\"][:-3]\n",
    "    experiments[\"RF_100\"][\"accuracy\"][-3:],experiments[\"RF_100\"][\"training_time\"][-3:],experiments[\"RF_100\"][\"inference_time\"][-3:]  = \\\n",
    "        np.array([85.67, 86.76, 87.77]), np.array([13.22, 29.77, 67.63]), np.array([0.32, 0.35, 0.4])\n",
    "    experiments[\"RF_500\"][\"accuracy\"][-3:],experiments[\"RF_500\"][\"training_time\"][-3:],experiments[\"RF_500\"][\"inference_time\"][-3:]  = \\\n",
    "        np.array([85.97, 86.97, 87.86]), np.array([65.26, 148.64, 337.84]), np.array([1.53, 1.72, 1.95])\n",
    "    experiments[\"SVM\"][\"accuracy\"][-3:],experiments[\"SVM\"][\"training_time\"][-3:],experiments[\"SVM\"][\"inference_time\"][-3:]  = \\\n",
    "        np.array([ 86.14, 87.03, 88.28]), np.array([40.43, 130.63, 433.99]), np.array([49.58,  88.61, 157.68])\n",
    "    experiments[\"RF_100\"][\"accuracy\"][-3:],experiments[\"RF_100\"][\"training_time\"][-3:],experiments[\"RF_100\"][\"inference_time\"][-3:]  = \\\n",
    "    np.array([85.67, 86.76, 87.77]), np.array([13.22, 29.77, 67.63]), np.array([0.32, 0.35, 0.4])\n",
    "    experiments[\"CNN_simple\"][\"accuracy\"][-3:],experiments[\"CNN_simple\"][\"training_time\"][-3:],experiments[\"CNN_simple\"][\"inference_time\"][-3:]  = \\\n",
    "        np.array([ 83.28, 85.66, 87.9]), np.array([40.76,  80.33, 162.19]), np.array([1.29, 1.35, 1.32])\n",
    "    experiments[\"CNN_wide\"][\"accuracy\"][-3:],experiments[\"CNN_wide\"][\"training_time\"][-3:],experiments[\"CNN_wide\"][\"inference_time\"][-3:]  = \\\n",
    "        np.array([84.83, 86.7 , 90.48]), np.array([40.6 ,  81.93, 160.84]), np.array([1.32, 1.33, 1.35])\n",
    "    experiments[\"CNN_deep\"][\"accuracy\"][-3:],experiments[\"CNN_deep\"][\"training_time\"][-3:],experiments[\"CNN_deep\"][\"inference_time\"][-3:]  = \\\n",
    "        np.array([ 88.95, 90.08, 91.86]), np.array([42.48,  82.38, 162.91]), np.array([1.34, 1.31, 1.32])\n",
    "    experiments[\"CNN_wide_max\"][\"accuracy\"][-3:],experiments[\"CNN_wide_max\"][\"training_time\"][-3:],experiments[\"CNN_wide_max\"][\"inference_time\"][-3:]  = \\\n",
    "        np.array([89.57, 90.12, 91.02]), np.array([41.09,  82.07, 161.16]), np.array([1.3 , 1.36, 1.33])\n",
    "    \n",
    "experiments"
   ]
  },
  {
   "cell_type": "markdown",
   "metadata": {
    "colab_type": "text",
    "id": "gIz9FAWwYLSu",
    "tags": [
     "text"
    ]
   },
   "source": [
    "Next, we want to apply this routine to the sklearn models first (i.e RFs and SVMs) for the different sizes of the data set. We implemented the routine for Random Forest with 100 estimators, with 500 estimators and for SVM:"
   ]
  },
  {
   "cell_type": "code",
   "execution_count": 17,
   "metadata": {
    "colab": {
     "base_uri": "https://localhost:8080/",
     "height": 289
    },
    "colab_type": "code",
    "id": "c_XUfWb1Dq-9",
    "outputId": "c596d7a8-cb2e-4bf9-c734-7dddb943c500",
    "tags": [
     "exec"
    ]
   },
   "outputs": [
    {
     "name": "stdout",
     "output_type": "stream",
     "text": [
      "Subset consists of 3000 samples\n",
      "training took 2.38 seconds\n",
      "inference took 0.26 seconds\n",
      "test accuracy: 82.42 percent\n",
      "Subset consists of 6000 samples\n",
      "training took 5.18 seconds\n",
      "inference took 0.26 seconds\n",
      "test accuracy: 83.91 percent\n"
     ]
    }
   ],
   "source": [
    "### code for experiments['RF_100'], just execute\n",
    "for i,n_samples in enumerate(experiments[\"N_samples\"]):\n",
    "    print(\"Subset consists of {} samples\".format(n_samples))\n",
    "    model = RandomForestClassifier(n_estimators=100)\n",
    "    \n",
    "    start_train= time.time()\n",
    "    model.fit(train_samples[:n_samples],train_labels[:n_samples])\n",
    "    end_train = time.time()\n",
    "    train_time = np.round(end_train-start_train,decimals=2)\n",
    "    experiments[\"RF_100\"][\"training_time\"][i] = train_time \n",
    "    print(\"training took {:.2f} seconds\".format(train_time))\n",
    "    \n",
    "    start_infer= time.time()\n",
    "    pred = model.predict(test_samples)\n",
    "    end_infer = time.time()\n",
    "    infer_time = np.round(end_infer-start_infer,decimals=2)\n",
    "    experiments[\"RF_100\"][\"inference_time\"][i] = infer_time\n",
    "    print(\"inference took {:.2f} seconds\".format(infer_time))\n",
    "    \n",
    "    accuracy = np.round(sum((pred-test_labels)==0)/len(test_labels)*100,\n",
    "                        decimals=2)\n",
    "    print(\"test accuracy: {:.2f} percent\".format(accuracy))\n",
    "    experiments[\"RF_100\"][\"accuracy\"][i] = accuracy"
   ]
  },
  {
   "cell_type": "code",
   "execution_count": 18,
   "metadata": {
    "colab": {
     "base_uri": "https://localhost:8080/",
     "height": 289
    },
    "colab_type": "code",
    "id": "c_XUfWb1Dq-9",
    "outputId": "c596d7a8-cb2e-4bf9-c734-7dddb943c500",
    "tags": [
     "exec"
    ]
   },
   "outputs": [
    {
     "name": "stdout",
     "output_type": "stream",
     "text": [
      "Subset consists of 3000 samples\n",
      "training took 12.23 seconds\n",
      "inference took 1.21 seconds\n",
      "test accuracy: 83.01 percent\n",
      "Subset consists of 6000 samples\n",
      "training took 25.43 seconds\n",
      "inference took 1.27 seconds\n",
      "test accuracy: 84.29 percent\n"
     ]
    }
   ],
   "source": [
    "### code for experiments['RF_500'], just execute\n",
    "for i,n_samples in enumerate(experiments[\"N_samples\"]):\n",
    "    print(\"Subset consists of {} samples\".format(n_samples))\n",
    "    model = RandomForestClassifier(n_estimators=500)\n",
    "    \n",
    "    start_train= time.time()\n",
    "    model.fit(train_samples[:n_samples],train_labels[:n_samples])\n",
    "    end_train = time.time()\n",
    "    train_time = np.round(end_train-start_train,decimals=2)\n",
    "    experiments[\"RF_500\"][\"training_time\"][i] = train_time \n",
    "    print(\"training took {:.2f} seconds\".format(train_time))\n",
    "    \n",
    "    start_infer= time.time()\n",
    "    pred = model.predict(test_samples)\n",
    "    end_infer = time.time()\n",
    "    infer_time = np.round(end_infer-start_infer,decimals=2)\n",
    "    experiments[\"RF_500\"][\"inference_time\"][i] = infer_time\n",
    "    print(\"inference took {:.2f} seconds\".format(infer_time))\n",
    "    \n",
    "    accuracy = np.round(sum((pred-test_labels)==0)/len(test_labels)*100,\n",
    "                        decimals=2)\n",
    "    print(\"test accuracy: {:.2f} percent\".format(accuracy))\n",
    "    experiments[\"RF_500\"][\"accuracy\"][i] = accuracy"
   ]
  },
  {
   "cell_type": "code",
   "execution_count": 19,
   "metadata": {
    "cellView": "both",
    "colab": {
     "base_uri": "https://localhost:8080/",
     "height": 289
    },
    "colab_type": "code",
    "id": "xhoMss4xYLS0",
    "outputId": "bcc2cf4c-94c0-4ea9-9213-8bece5998771",
    "tags": [
     "exec"
    ]
   },
   "outputs": [
    {
     "name": "stdout",
     "output_type": "stream",
     "text": [
      "Subset consists of 3000 samples\n",
      "training took 0.59 seconds\n",
      "inference took 9.32 seconds\n",
      "test accuracy: 82.32 percent\n",
      "Subset consists of 6000 samples\n",
      "training took 2.69 seconds\n",
      "inference took 16.77 seconds\n",
      "test accuracy: 84.13 percent\n"
     ]
    }
   ],
   "source": [
    "### code for experiments['SVM'], just execute\n",
    "for i,n_samples in enumerate(experiments[\"N_samples\"]):\n",
    "    print(\"Subset consists of {} samples\".format(n_samples))\n",
    "    model = SVC()\n",
    "    \n",
    "    start_train= time.time()\n",
    "    model.fit(train_samples[:n_samples],train_labels[:n_samples])\n",
    "    end_train = time.time()\n",
    "    train_time = np.round(end_train-start_train,decimals=2)\n",
    "    experiments[\"SVM\"][\"training_time\"][i] = train_time \n",
    "    print(\"training took {:.2f} seconds\".format(train_time))\n",
    "    \n",
    "    start_infer= time.time()\n",
    "    pred = model.predict(test_samples)\n",
    "    end_infer = time.time()\n",
    "    infer_time = np.round(end_infer-start_infer,decimals=2)\n",
    "    experiments[\"SVM\"][\"inference_time\"][i] = infer_time\n",
    "    print(\"inference took {:.2f} seconds\".format(infer_time))\n",
    "    \n",
    "    accuracy = np.round(sum((pred-test_labels)==0)/len(test_labels)*100,\n",
    "                        decimals=2)\n",
    "    print(\"test accuracy: {:.2f} percent\".format(accuracy))\n",
    "    experiments[\"SVM\"][\"accuracy\"][i] = accuracy"
   ]
  },
  {
   "cell_type": "markdown",
   "metadata": {
    "colab_type": "text",
    "id": "H7WOSvBaDq_A",
    "tags": [
     "text"
    ]
   },
   "source": [
    "Now we want to run similar experiments with four different CNN models. Feel free to experiment with the networks. If running the code takes too long, the relevant data is already stored in the `experiments` dictionary defined 4 cells above.\n",
    "\n",
    "We first provide the training and test routine for the CNNs."
   ]
  },
  {
   "cell_type": "code",
   "execution_count": 20,
   "metadata": {
    "colab": {},
    "colab_type": "code",
    "id": "F2zYlWcKDq_A",
    "tags": [
     "exec"
    ]
   },
   "outputs": [],
   "source": [
    "#nothing to do here, just execute\n",
    "def train(model, device, train_loader, optimizer, epoch):\n",
    "    model.train() \n",
    "    correct=0\n",
    "    total = 0\n",
    "    for batch_idx, (data, target) in enumerate(train_loader):\n",
    "        data, target = data.to(device), target.to(device)\n",
    "        optimizer.zero_grad()\n",
    "        output = model(data)\n",
    "        loss = F.nll_loss(output, target)\n",
    "        loss.backward()\n",
    "        optimizer.step()\n",
    "        pred = output.max(1, keepdim=True)[1] # get the index of the max log-probability\n",
    "        correct += pred.eq(target.view_as(pred)).sum().item()\n",
    "        total += target.shape[0]\n",
    "    print('Epoch {} \\nTraining Accuracy: {}/{} ({:.2f}%)'.format(epoch,\n",
    "    correct, total, 100*correct/total \n",
    "    )) \n",
    "    \n",
    "def test(model, device, test_loader):\n",
    "    model.eval()\n",
    "    correct = 0\n",
    "    for data, target in test_loader:\n",
    "        data, target = data.to(device), target.to(device)\n",
    "        output = model(data)\n",
    "        pred = output.max(1, keepdim=True)[1] # get the index of the max log-probability\n",
    "        correct += pred.eq(target.view_as(pred)).sum().item()\n",
    "    accuracy = np.round(100. * correct / len(test_loader.dataset),decimals=2)\n",
    "    print('Test Accuracy: {}/{} ({:.2f}%)'.format(correct, len(test_loader.dataset), accuracy)) \n",
    "    return accuracy"
   ]
  },
  {
   "cell_type": "markdown",
   "metadata": {
    "colab_type": "text",
    "id": "fw6d1K-DYLS-",
    "tags": [
     "text"
    ]
   },
   "source": [
    "Here we provide a routine that creates CNN models. It takes as inputs the hyper-parameters of the CNNs. It's not necessary to fully understand this routine at this stage, as this will be a main topic in further courses (e.g. Deep Learning 1&2)."
   ]
  },
  {
   "cell_type": "code",
   "execution_count": 21,
   "metadata": {
    "colab": {},
    "colab_type": "code",
    "id": "_NRK1hMDDq_C",
    "tags": [
     "exec"
    ]
   },
   "outputs": [],
   "source": [
    "#nothing to do here, just execute\n",
    "class Net(nn.Module):\n",
    "    def __init__(self,use_batch_norm=True,n_blocks=3,n_layers=3,channels = 32, multiply_channels=2, global_max = True):\n",
    "        super(Net, self).__init__(),\n",
    "        self.use_batch_norm = use_batch_norm\n",
    "        self.n_blocks = n_blocks\n",
    "        self.n_layers = n_layers\n",
    "        self.channels = channels\n",
    "        self.multiply_channels = multiply_channels\n",
    "        self.global_max = global_max\n",
    "\n",
    "        ## feature extraction CNN => linear layer (N_cannels to N_classes) => softmax\n",
    "        self.cnn_module = self.build_model() \n",
    "        self.fc_module = nn.Sequential(\n",
    "            nn.Linear(channels*multiply_channels**(n_blocks-1), 10)) \n",
    "        \n",
    "    def build_model(self):\n",
    "        channels_per_layer = [1,self.channels]\n",
    "        for i in range(1,self.n_blocks):\n",
    "            channels_per_layer.append(self.channels*self.multiply_channels**i)   \n",
    "        \n",
    "        components = []\n",
    "        for i in range(self.n_blocks):\n",
    "            for j in range(self.n_layers):\n",
    "                if j== 0:\n",
    "                    cur_dims = [channels_per_layer[i],channels_per_layer[i+1]]   ## first layer of the block\n",
    "                else: \n",
    "                    cur_dims = [channels_per_layer[i+1],channels_per_layer[i+1]]\n",
    "\n",
    "                if self.use_batch_norm:        ## no bias needed\n",
    "                    components.append(\n",
    "                        nn.Sequential(nn.Conv2d(cur_dims[0], cur_dims[1], kernel_size = 3,padding=1,bias=False),\n",
    "                                     nn.BatchNorm2d(cur_dims[1], momentum=0.1),\n",
    "                                     nn.ReLU()\n",
    "                                     )\n",
    "                    )\n",
    "                else:                          \n",
    "                    components.append(\n",
    "                        nn.Sequential(nn.Conv2d(cur_dims[0], cur_dims[1], kernel_size = 3,padding=1),\n",
    "                                     nn.ReLU()\n",
    "                                     )\n",
    "                    )\n",
    "            if i == self.n_blocks-1:\n",
    "                if self.global_max:\n",
    "                    components.append(nn.Sequential(nn.AdaptiveMaxPool2d(1)))    ## finish with a global max pooling layer\n",
    "                else:\n",
    "                    components.append(nn.Sequential(nn.AdaptiveAvgPool2d(1)))    ## finish with a global average pooling layer\n",
    "            else: \n",
    "                components.append(nn.Sequential(nn.MaxPool2d(2, stride = 2)))    ## downsampling via max_pooling of stride 2\n",
    "        return nn.Sequential(*components)\n",
    "        \n",
    "    def forward(self, x):   \n",
    "        x = self.cnn_module(x)    \n",
    "        x = x.view(x.size(0), -1) \n",
    "        x = self.fc_module(x)     \n",
    "        return F.log_softmax(x, dim=1)"
   ]
  },
  {
   "cell_type": "markdown",
   "metadata": {
    "colab_type": "text",
    "id": "j9gtHy6_YLTE",
    "tags": [
     "text"
    ]
   },
   "source": [
    "Now let us run the different CNN models for the different sizes of the data sets.\n",
    "You should run the experiments with the following four CNN models:\n",
    "- a simple CNN with average pooling, called \"CNN_simple\"\n",
    "- a wide CNN with average pooling, called \"CNN_wide\"\n",
    "- a deep CNN with average pooling, called \"CNN_deep\"\n",
    "- a wide CNN with max pooling, called \"CNN_wide_max\"\n",
    "\n",
    "This is done now in a similar fashion as for the sklearn methods. Again accuracy, training time, and test time are stored in the experiments dictionary for the different sizes of the data sets. The number of trainable parameters for each of the four different CNNs is printed in the begining of the training loop of the corresponding model. This should allow you to get a rough idea of the complexities of these models."
   ]
  },
  {
   "cell_type": "code",
   "execution_count": 22,
   "metadata": {
    "colab": {
     "base_uri": "https://localhost:8080/",
     "height": 1000
    },
    "colab_type": "code",
    "id": "kAHUquqsDq_I",
    "outputId": "0bffa978-da10-4d0b-e39b-7d9974c23f50",
    "scrolled": true,
    "tags": [
     "exec"
    ]
   },
   "outputs": [
    {
     "name": "stdout",
     "output_type": "stream",
     "text": [
      "Net(\n",
      "  (cnn_module): Sequential(\n",
      "    (0): Sequential(\n",
      "      (0): Conv2d(1, 16, kernel_size=(3, 3), stride=(1, 1), padding=(1, 1), bias=False)\n",
      "      (1): BatchNorm2d(16, eps=1e-05, momentum=0.1, affine=True, track_running_stats=True)\n",
      "      (2): ReLU()\n",
      "    )\n",
      "    (1): Sequential(\n",
      "      (0): MaxPool2d(kernel_size=2, stride=2, padding=0, dilation=1, ceil_mode=False)\n",
      "    )\n",
      "    (2): Sequential(\n",
      "      (0): Conv2d(16, 16, kernel_size=(3, 3), stride=(1, 1), padding=(1, 1), bias=False)\n",
      "      (1): BatchNorm2d(16, eps=1e-05, momentum=0.1, affine=True, track_running_stats=True)\n",
      "      (2): ReLU()\n",
      "    )\n",
      "    (3): Sequential(\n",
      "      (0): MaxPool2d(kernel_size=2, stride=2, padding=0, dilation=1, ceil_mode=False)\n",
      "    )\n",
      "    (4): Sequential(\n",
      "      (0): Conv2d(16, 16, kernel_size=(3, 3), stride=(1, 1), padding=(1, 1), bias=False)\n",
      "      (1): BatchNorm2d(16, eps=1e-05, momentum=0.1, affine=True, track_running_stats=True)\n",
      "      (2): ReLU()\n",
      "    )\n",
      "    (5): Sequential(\n",
      "      (0): AdaptiveAvgPool2d(output_size=1)\n",
      "    )\n",
      "  )\n",
      "  (fc_module): Sequential(\n",
      "    (0): Linear(in_features=16, out_features=10, bias=True)\n",
      "  )\n",
      ")\n",
      "\n",
      "The model has 5018 parameters\n",
      "\n",
      "Subset consists of 3000 samples\n",
      "Epoch 1 \n",
      "Training Accuracy: 942/3000 (31.40%)\n",
      "epoch took 1.66 seconds\n",
      "Test Accuracy: 3914/10000 (39.14%)\n",
      "inference took 2.74 seconds\n",
      "Epoch 2 \n",
      "Training Accuracy: 1471/3000 (49.03%)\n",
      "epoch took 1.26 seconds\n",
      "Test Accuracy: 5584/10000 (55.84%)\n",
      "inference took 2.87 seconds\n",
      "Epoch 3 \n",
      "Training Accuracy: 1653/3000 (55.10%)\n",
      "epoch took 1.33 seconds\n",
      "Test Accuracy: 5784/10000 (57.84%)\n",
      "inference took 2.78 seconds\n",
      "Epoch 4 \n",
      "Training Accuracy: 1758/3000 (58.60%)\n",
      "epoch took 1.31 seconds\n",
      "Test Accuracy: 6132/10000 (61.32%)\n",
      "inference took 2.69 seconds\n",
      "Epoch 5 \n",
      "Training Accuracy: 1959/3000 (65.30%)\n",
      "epoch took 1.32 seconds\n",
      "Test Accuracy: 6457/10000 (64.57%)\n",
      "inference took 2.70 seconds\n",
      "finished CNN_simple with 3000\n",
      "accuracy [61.24  0.   83.28 85.66 87.9 ]\n",
      "training_time [  6.88   0.    40.76  80.33 162.19]\n",
      "inference_time [2.76 0.   1.29 1.35 1.32]\n",
      "\n",
      "Subset consists of 6000 samples\n",
      "Epoch 1 \n",
      "Training Accuracy: 2602/6000 (43.37%)\n",
      "epoch took 2.51 seconds\n",
      "Test Accuracy: 5647/10000 (56.47%)\n",
      "inference took 2.79 seconds\n",
      "Epoch 2 \n",
      "Training Accuracy: 3882/6000 (64.70%)\n",
      "epoch took 2.77 seconds\n",
      "Test Accuracy: 6542/10000 (65.42%)\n",
      "inference took 3.33 seconds\n",
      "Epoch 3 \n",
      "Training Accuracy: 4239/6000 (70.65%)\n",
      "epoch took 3.25 seconds\n",
      "Test Accuracy: 6778/10000 (67.78%)\n",
      "inference took 3.14 seconds\n",
      "Epoch 4 \n",
      "Training Accuracy: 4357/6000 (72.62%)\n",
      "epoch took 2.93 seconds\n",
      "Test Accuracy: 7212/10000 (72.12%)\n",
      "inference took 3.44 seconds\n",
      "Epoch 5 \n",
      "Training Accuracy: 4465/6000 (74.42%)\n",
      "epoch took 3.67 seconds\n",
      "Test Accuracy: 7300/10000 (73.00%)\n",
      "inference took 4.12 seconds\n",
      "finished CNN_simple with 6000\n",
      "accuracy [61.24 70.97 83.28 85.66 87.9 ]\n",
      "training_time [  6.88  15.13  40.76  80.33 162.19]\n",
      "inference_time [2.76 3.36 1.29 1.35 1.32]\n",
      "\n",
      "Net(\n",
      "  (cnn_module): Sequential(\n",
      "    (0): Sequential(\n",
      "      (0): Conv2d(1, 32, kernel_size=(3, 3), stride=(1, 1), padding=(1, 1), bias=False)\n",
      "      (1): BatchNorm2d(32, eps=1e-05, momentum=0.1, affine=True, track_running_stats=True)\n",
      "      (2): ReLU()\n",
      "    )\n",
      "    (1): Sequential(\n",
      "      (0): MaxPool2d(kernel_size=2, stride=2, padding=0, dilation=1, ceil_mode=False)\n",
      "    )\n",
      "    (2): Sequential(\n",
      "      (0): Conv2d(32, 64, kernel_size=(3, 3), stride=(1, 1), padding=(1, 1), bias=False)\n",
      "      (1): BatchNorm2d(64, eps=1e-05, momentum=0.1, affine=True, track_running_stats=True)\n",
      "      (2): ReLU()\n",
      "    )\n",
      "    (3): Sequential(\n",
      "      (0): MaxPool2d(kernel_size=2, stride=2, padding=0, dilation=1, ceil_mode=False)\n",
      "    )\n",
      "    (4): Sequential(\n",
      "      (0): Conv2d(64, 128, kernel_size=(3, 3), stride=(1, 1), padding=(1, 1), bias=False)\n",
      "      (1): BatchNorm2d(128, eps=1e-05, momentum=0.1, affine=True, track_running_stats=True)\n",
      "      (2): ReLU()\n",
      "    )\n",
      "    (5): Sequential(\n",
      "      (0): AdaptiveAvgPool2d(output_size=1)\n",
      "    )\n",
      "  )\n",
      "  (fc_module): Sequential(\n",
      "    (0): Linear(in_features=128, out_features=10, bias=True)\n",
      "  )\n",
      ")\n",
      "\n",
      "The model has 94186 parameters\n",
      "\n",
      "Subset consists of 3000 samples\n",
      "Epoch 1 \n",
      "Training Accuracy: 1700/3000 (56.67%)\n",
      "epoch took 4.36 seconds\n",
      "Test Accuracy: 6827/10000 (68.27%)\n",
      "inference took 7.10 seconds\n",
      "Epoch 2 \n",
      "Training Accuracy: 2169/3000 (72.30%)\n",
      "epoch took 5.21 seconds\n",
      "Test Accuracy: 7070/10000 (70.70%)\n",
      "inference took 7.58 seconds\n",
      "Epoch 3 \n",
      "Training Accuracy: 2284/3000 (76.13%)\n",
      "epoch took 4.10 seconds\n",
      "Test Accuracy: 7245/10000 (72.45%)\n",
      "inference took 5.52 seconds\n",
      "Epoch 4 \n",
      "Training Accuracy: 2357/3000 (78.57%)\n",
      "epoch took 3.36 seconds\n",
      "Test Accuracy: 7375/10000 (73.75%)\n",
      "inference took 5.48 seconds\n",
      "Epoch 5 \n",
      "Training Accuracy: 2425/3000 (80.83%)\n",
      "epoch took 3.58 seconds\n",
      "Test Accuracy: 6905/10000 (69.05%)\n",
      "inference took 6.11 seconds\n",
      "finished CNN_wide with 3000\n",
      "accuracy [71.75  0.   84.83 86.7  90.48]\n",
      "training_time [ 20.61   0.    40.6   81.93 160.84]\n",
      "inference_time [6.36 0.   1.32 1.33 1.35]\n",
      "\n",
      "Subset consists of 6000 samples\n",
      "Epoch 1 \n",
      "Training Accuracy: 3949/6000 (65.82%)\n",
      "epoch took 7.06 seconds\n",
      "Test Accuracy: 7040/10000 (70.40%)\n",
      "inference took 5.90 seconds\n",
      "Epoch 2 \n",
      "Training Accuracy: 4695/6000 (78.25%)\n",
      "epoch took 7.45 seconds\n",
      "Test Accuracy: 7386/10000 (73.86%)\n",
      "inference took 5.81 seconds\n",
      "Epoch 3 \n",
      "Training Accuracy: 4856/6000 (80.93%)\n",
      "epoch took 6.92 seconds\n",
      "Test Accuracy: 7556/10000 (75.56%)\n",
      "inference took 5.96 seconds\n",
      "Epoch 4 \n",
      "Training Accuracy: 5012/6000 (83.53%)\n",
      "epoch took 7.20 seconds\n",
      "Test Accuracy: 7825/10000 (78.25%)\n",
      "inference took 5.80 seconds\n",
      "Epoch 5 \n",
      "Training Accuracy: 5109/6000 (85.15%)\n",
      "epoch took 7.12 seconds\n",
      "Test Accuracy: 7712/10000 (77.12%)\n",
      "inference took 5.89 seconds\n",
      "finished CNN_wide with 6000\n",
      "accuracy [71.75 76.98 84.83 86.7  90.48]\n",
      "training_time [ 20.61  35.75  40.6   81.93 160.84]\n",
      "inference_time [6.36 5.87 1.32 1.33 1.35]\n",
      "\n",
      "Net(\n",
      "  (cnn_module): Sequential(\n",
      "    (0): Sequential(\n",
      "      (0): Conv2d(1, 16, kernel_size=(3, 3), stride=(1, 1), padding=(1, 1), bias=False)\n",
      "      (1): BatchNorm2d(16, eps=1e-05, momentum=0.1, affine=True, track_running_stats=True)\n",
      "      (2): ReLU()\n",
      "    )\n",
      "    (1): Sequential(\n",
      "      (0): Conv2d(16, 16, kernel_size=(3, 3), stride=(1, 1), padding=(1, 1), bias=False)\n",
      "      (1): BatchNorm2d(16, eps=1e-05, momentum=0.1, affine=True, track_running_stats=True)\n",
      "      (2): ReLU()\n",
      "    )\n",
      "    (2): Sequential(\n",
      "      (0): Conv2d(16, 16, kernel_size=(3, 3), stride=(1, 1), padding=(1, 1), bias=False)\n",
      "      (1): BatchNorm2d(16, eps=1e-05, momentum=0.1, affine=True, track_running_stats=True)\n",
      "      (2): ReLU()\n",
      "    )\n",
      "    (3): Sequential(\n",
      "      (0): MaxPool2d(kernel_size=2, stride=2, padding=0, dilation=1, ceil_mode=False)\n",
      "    )\n",
      "    (4): Sequential(\n",
      "      (0): Conv2d(16, 16, kernel_size=(3, 3), stride=(1, 1), padding=(1, 1), bias=False)\n",
      "      (1): BatchNorm2d(16, eps=1e-05, momentum=0.1, affine=True, track_running_stats=True)\n",
      "      (2): ReLU()\n",
      "    )\n",
      "    (5): Sequential(\n",
      "      (0): Conv2d(16, 16, kernel_size=(3, 3), stride=(1, 1), padding=(1, 1), bias=False)\n",
      "      (1): BatchNorm2d(16, eps=1e-05, momentum=0.1, affine=True, track_running_stats=True)\n",
      "      (2): ReLU()\n",
      "    )\n",
      "    (6): Sequential(\n",
      "      (0): Conv2d(16, 16, kernel_size=(3, 3), stride=(1, 1), padding=(1, 1), bias=False)\n",
      "      (1): BatchNorm2d(16, eps=1e-05, momentum=0.1, affine=True, track_running_stats=True)\n",
      "      (2): ReLU()\n",
      "    )\n",
      "    (7): Sequential(\n",
      "      (0): MaxPool2d(kernel_size=2, stride=2, padding=0, dilation=1, ceil_mode=False)\n",
      "    )\n",
      "    (8): Sequential(\n",
      "      (0): Conv2d(16, 16, kernel_size=(3, 3), stride=(1, 1), padding=(1, 1), bias=False)\n",
      "      (1): BatchNorm2d(16, eps=1e-05, momentum=0.1, affine=True, track_running_stats=True)\n",
      "      (2): ReLU()\n",
      "    )\n",
      "    (9): Sequential(\n",
      "      (0): Conv2d(16, 16, kernel_size=(3, 3), stride=(1, 1), padding=(1, 1), bias=False)\n",
      "      (1): BatchNorm2d(16, eps=1e-05, momentum=0.1, affine=True, track_running_stats=True)\n",
      "      (2): ReLU()\n",
      "    )\n",
      "    (10): Sequential(\n",
      "      (0): Conv2d(16, 16, kernel_size=(3, 3), stride=(1, 1), padding=(1, 1), bias=False)\n",
      "      (1): BatchNorm2d(16, eps=1e-05, momentum=0.1, affine=True, track_running_stats=True)\n",
      "      (2): ReLU()\n",
      "    )\n",
      "    (11): Sequential(\n",
      "      (0): AdaptiveAvgPool2d(output_size=1)\n",
      "    )\n",
      "  )\n",
      "  (fc_module): Sequential(\n",
      "    (0): Linear(in_features=16, out_features=10, bias=True)\n",
      "  )\n",
      ")\n",
      "\n",
      "The model has 19034 parameters\n",
      "\n",
      "Subset consists of 3000 samples\n",
      "Epoch 1 \n",
      "Training Accuracy: 1132/3000 (37.73%)\n",
      "epoch took 3.63 seconds\n",
      "Test Accuracy: 6025/10000 (60.25%)\n",
      "inference took 5.56 seconds\n",
      "Epoch 2 \n",
      "Training Accuracy: 2052/3000 (68.40%)\n",
      "epoch took 3.55 seconds\n",
      "Test Accuracy: 7093/10000 (70.93%)\n",
      "inference took 5.47 seconds\n",
      "Epoch 3 \n",
      "Training Accuracy: 2179/3000 (72.63%)\n",
      "epoch took 3.48 seconds\n",
      "Test Accuracy: 6892/10000 (68.92%)\n",
      "inference took 5.28 seconds\n",
      "Epoch 4 \n",
      "Training Accuracy: 2261/3000 (75.37%)\n",
      "epoch took 3.44 seconds\n",
      "Test Accuracy: 7255/10000 (72.55%)\n",
      "inference took 5.34 seconds\n",
      "Epoch 5 \n",
      "Training Accuracy: 2350/3000 (78.33%)\n",
      "epoch took 3.40 seconds\n",
      "Test Accuracy: 7453/10000 (74.53%)\n",
      "inference took 5.28 seconds\n",
      "finished CNN_deep with 3000\n",
      "accuracy [72.    0.   88.95 90.08 91.86]\n",
      "training_time [ 17.5    0.    42.48  82.38 162.91]\n",
      "inference_time [5.39 0.   1.34 1.31 1.32]\n",
      "\n",
      "Subset consists of 6000 samples\n",
      "Epoch 1 \n",
      "Training Accuracy: 2941/6000 (49.02%)\n",
      "epoch took 6.93 seconds\n",
      "Test Accuracy: 6005/10000 (60.05%)\n",
      "inference took 5.30 seconds\n",
      "Epoch 2 \n",
      "Training Accuracy: 4290/6000 (71.50%)\n",
      "epoch took 6.87 seconds\n",
      "Test Accuracy: 7504/10000 (75.04%)\n",
      "inference took 5.31 seconds\n",
      "Epoch 3 \n",
      "Training Accuracy: 4724/6000 (78.73%)\n",
      "epoch took 7.15 seconds\n",
      "Test Accuracy: 7599/10000 (75.99%)\n",
      "inference took 5.33 seconds\n",
      "Epoch 4 \n",
      "Training Accuracy: 4897/6000 (81.62%)\n",
      "epoch took 6.90 seconds\n",
      "Test Accuracy: 7926/10000 (79.26%)\n",
      "inference took 5.35 seconds\n",
      "Epoch 5 \n",
      "Training Accuracy: 5024/6000 (83.73%)\n",
      "epoch took 6.96 seconds\n",
      "Test Accuracy: 8159/10000 (81.59%)\n",
      "inference took 5.26 seconds\n",
      "finished CNN_deep with 6000\n",
      "accuracy [72.   78.95 88.95 90.08 91.86]\n",
      "training_time [ 17.5   34.81  42.48  82.38 162.91]\n",
      "inference_time [5.39 5.31 1.34 1.31 1.32]\n",
      "\n",
      "Net(\n",
      "  (cnn_module): Sequential(\n",
      "    (0): Sequential(\n",
      "      (0): Conv2d(1, 32, kernel_size=(3, 3), stride=(1, 1), padding=(1, 1), bias=False)\n",
      "      (1): BatchNorm2d(32, eps=1e-05, momentum=0.1, affine=True, track_running_stats=True)\n",
      "      (2): ReLU()\n",
      "    )\n",
      "    (1): Sequential(\n",
      "      (0): MaxPool2d(kernel_size=2, stride=2, padding=0, dilation=1, ceil_mode=False)\n",
      "    )\n",
      "    (2): Sequential(\n",
      "      (0): Conv2d(32, 64, kernel_size=(3, 3), stride=(1, 1), padding=(1, 1), bias=False)\n",
      "      (1): BatchNorm2d(64, eps=1e-05, momentum=0.1, affine=True, track_running_stats=True)\n",
      "      (2): ReLU()\n",
      "    )\n",
      "    (3): Sequential(\n",
      "      (0): MaxPool2d(kernel_size=2, stride=2, padding=0, dilation=1, ceil_mode=False)\n",
      "    )\n",
      "    (4): Sequential(\n",
      "      (0): Conv2d(64, 128, kernel_size=(3, 3), stride=(1, 1), padding=(1, 1), bias=False)\n",
      "      (1): BatchNorm2d(128, eps=1e-05, momentum=0.1, affine=True, track_running_stats=True)\n",
      "      (2): ReLU()\n",
      "    )\n",
      "    (5): Sequential(\n",
      "      (0): AdaptiveMaxPool2d(output_size=1)\n",
      "    )\n",
      "  )\n",
      "  (fc_module): Sequential(\n",
      "    (0): Linear(in_features=128, out_features=10, bias=True)\n",
      "  )\n",
      ")\n",
      "\n",
      "The model has 94186 parameters\n",
      "\n",
      "Subset consists of 3000 samples\n",
      "Epoch 1 \n",
      "Training Accuracy: 2069/3000 (68.97%)\n",
      "epoch took 3.43 seconds\n",
      "Test Accuracy: 7814/10000 (78.14%)\n",
      "inference took 5.76 seconds\n",
      "Epoch 2 \n",
      "Training Accuracy: 2503/3000 (83.43%)\n",
      "epoch took 3.50 seconds\n",
      "Test Accuracy: 8284/10000 (82.84%)\n",
      "inference took 5.54 seconds\n",
      "Epoch 3 \n",
      "Training Accuracy: 2611/3000 (87.03%)\n",
      "epoch took 3.44 seconds\n",
      "Test Accuracy: 8356/10000 (83.56%)\n",
      "inference took 5.54 seconds\n",
      "Epoch 4 \n",
      "Training Accuracy: 2694/3000 (89.80%)\n",
      "epoch took 3.43 seconds\n",
      "Test Accuracy: 8193/10000 (81.93%)\n",
      "inference took 5.82 seconds\n",
      "Epoch 5 \n",
      "Training Accuracy: 2768/3000 (92.27%)\n",
      "epoch took 3.50 seconds\n",
      "Test Accuracy: 8435/10000 (84.35%)\n",
      "inference took 7.67 seconds\n",
      "finished CNN_wide_max with 3000\n",
      "accuracy [83.28  0.   89.57 90.12 91.02]\n",
      "training_time [ 17.3    0.    41.09  82.07 161.16]\n",
      "inference_time [6.07 0.   1.3  1.36 1.33]\n",
      "\n",
      "Subset consists of 6000 samples\n",
      "Epoch 1 \n",
      "Training Accuracy: 4497/6000 (74.95%)\n",
      "epoch took 7.34 seconds\n",
      "Test Accuracy: 8201/10000 (82.01%)\n",
      "inference took 6.98 seconds\n",
      "Epoch 2 \n",
      "Training Accuracy: 5158/6000 (85.97%)\n",
      "epoch took 10.74 seconds\n",
      "Test Accuracy: 8544/10000 (85.44%)\n",
      "inference took 8.09 seconds\n",
      "Epoch 3 \n",
      "Training Accuracy: 5326/6000 (88.77%)\n",
      "epoch took 10.08 seconds\n",
      "Test Accuracy: 8583/10000 (85.83%)\n",
      "inference took 7.68 seconds\n",
      "Epoch 4 \n",
      "Training Accuracy: 5465/6000 (91.08%)\n",
      "epoch took 9.35 seconds\n",
      "Test Accuracy: 8523/10000 (85.23%)\n",
      "inference took 7.53 seconds\n",
      "Epoch 5 \n",
      "Training Accuracy: 5577/6000 (92.95%)\n",
      "epoch took 9.42 seconds\n",
      "Test Accuracy: 8666/10000 (86.66%)\n",
      "inference took 7.40 seconds\n",
      "finished CNN_wide_max with 6000\n",
      "accuracy [83.28 85.91 89.57 90.12 91.02]\n",
      "training_time [ 17.3   46.93  41.09  82.07 161.16]\n",
      "inference_time [6.07 7.54 1.3  1.36 1.33]\n",
      "\n"
     ]
    },
    {
     "data": {
      "text/plain": [
       "{'percentages': array([0.05, 0.1 , 0.25, 0.5 , 1.  ]),\n",
       " 'N_samples': array([3000, 6000]),\n",
       " 'RF_100': {'accuracy': array([82.42, 83.91, 85.67, 86.76, 87.77]),\n",
       "  'training_time': array([ 2.38,  5.18, 13.22, 29.77, 67.63]),\n",
       "  'inference_time': array([0.26, 0.26, 0.32, 0.35, 0.4 ])},\n",
       " 'RF_500': {'accuracy': array([83.01, 84.29, 85.97, 86.97, 87.86]),\n",
       "  'training_time': array([ 12.23,  25.43,  65.26, 148.64, 337.84]),\n",
       "  'inference_time': array([1.21, 1.27, 1.53, 1.72, 1.95])},\n",
       " 'SVM': {'accuracy': array([82.32, 84.13, 86.14, 87.03, 88.28]),\n",
       "  'training_time': array([  0.59,   2.69,  40.43, 130.63, 433.99]),\n",
       "  'inference_time': array([  9.32,  16.77,  49.58,  88.61, 157.68])},\n",
       " 'CNN_simple': {'accuracy': array([61.24, 70.97, 83.28, 85.66, 87.9 ]),\n",
       "  'training_time': array([  6.88,  15.13,  40.76,  80.33, 162.19]),\n",
       "  'inference_time': array([2.76, 3.36, 1.29, 1.35, 1.32])},\n",
       " 'CNN_wide': {'accuracy': array([71.75, 76.98, 84.83, 86.7 , 90.48]),\n",
       "  'training_time': array([ 20.61,  35.75,  40.6 ,  81.93, 160.84]),\n",
       "  'inference_time': array([6.36, 5.87, 1.32, 1.33, 1.35])},\n",
       " 'CNN_deep': {'accuracy': array([72.  , 78.95, 88.95, 90.08, 91.86]),\n",
       "  'training_time': array([ 17.5 ,  34.81,  42.48,  82.38, 162.91]),\n",
       "  'inference_time': array([5.39, 5.31, 1.34, 1.31, 1.32])},\n",
       " 'CNN_wide_max': {'accuracy': array([83.28, 85.91, 89.57, 90.12, 91.02]),\n",
       "  'training_time': array([ 17.3 ,  46.93,  41.09,  82.07, 161.16]),\n",
       "  'inference_time': array([6.07, 7.54, 1.3 , 1.36, 1.33])}}"
      ]
     },
     "execution_count": 22,
     "metadata": {},
     "output_type": "execute_result"
    }
   ],
   "source": [
    "## nothing to do here, just execute\n",
    "\n",
    "max_epochs = 5\n",
    "\n",
    "for model_tag in [\"CNN_simple\",\"CNN_wide\",\"CNN_deep\",\"CNN_wide_max\"]:\n",
    "    for i,n_samples in enumerate(experiments[\"N_samples\"]):\n",
    "        if  model_tag == \"CNN_simple\":\n",
    "            ## a simple 'CNN with 3 layers with 16 channels each\n",
    "            model = Net(use_batch_norm=True,n_blocks=3,n_layers=1,channels = 16, multiply_channels=1,global_max=False).to(device)  ## simple\n",
    "        elif model_tag == \"CNN_wide\":\n",
    "            ## a wider version with 3 layers with 16,32 and 64 channels\n",
    "            model = Net(use_batch_norm=True,n_blocks=3,n_layers=1,channels = 32, multiply_channels=2,global_max=False).to(device)  ## wide\n",
    "        elif model_tag == \"CNN_deep\":\n",
    "            ## a deeper version with 9 layers with 16 channels each\n",
    "            model = Net(use_batch_norm=True,n_blocks=3,n_layers=3,channels = 16, multiply_channels=1,global_max=False).to(device)  ## deep\n",
    "        elif model_tag == \"CNN_wide_max\":\n",
    "            ## a wider version with 3 layers with 16, 32 and 64 channels, global maximum pooling\n",
    "            model = Net(use_batch_norm=True,n_blocks=3,n_layers=1,channels = 32, multiply_channels=2,global_max=True).to(device)  ## wide       \n",
    "\n",
    "        optimizer = optim.Adam(model.parameters())\n",
    "        sampler = get_sampler(experiments[\"N_samples\"][i])\n",
    "        train_loader = get_data_loader(use_cuda,64,train=True,sampler=sampler)\n",
    "        test_loader = get_data_loader(use_cuda,128,train=False)\n",
    "\n",
    "        if i == 0:\n",
    "            print(model)\n",
    "            print(\"\\nThe model has {} parameters\\n\".format(sum(p.numel() for p in model.parameters())))\n",
    "            \n",
    "        print(\"Subset consists of {} samples\".format(n_samples))\n",
    "        epoch_times = []\n",
    "        infer_times = []\n",
    "        accuracies = []\n",
    "        for epoch in range(1,max_epochs+1):\n",
    "            start_epoch=time.time()\n",
    "            train(model, device, train_loader, optimizer, epoch)\n",
    "            end_epoch=time.time()\n",
    "            epoch_time = np.round(end_epoch-start_epoch,decimals=2)\n",
    "            epoch_times.append(epoch_time)\n",
    "            \n",
    "            print(\"epoch took {:.2f} seconds\".format(epoch_time))\n",
    "            start_infer = time.time()\n",
    "            accuracies.append(test(model, device, test_loader))\n",
    "            end_infer=time.time()\n",
    "            infer_time = np.round(end_infer-start_infer,decimals=2)\n",
    "            infer_times.append(infer_time)\n",
    "            print(\"inference took {:.2f} seconds\".format(infer_time))\n",
    "        \n",
    "        print(\"finished \" + model_tag + \" with {}\".format(n_samples))\n",
    "        experiments[model_tag][\"accuracy\"][i] = np.round(np.mean(np.array(accuracies[-3:])),decimals=2)  #average over final 3 epochs\n",
    "        experiments[model_tag][\"training_time\"][i] = np.round(np.sum(np.array(epoch_times)),decimals=2)  # sum over all epochs\n",
    "        experiments[model_tag][\"inference_time\"][i] = np.round(np.mean(np.array(infer_times)),decimals=2)  #mean inference time\n",
    "        for k in experiments[model_tag].keys():\n",
    "            print(k, experiments[model_tag][k])\n",
    "        print()\n",
    "\n",
    "experiments"
   ]
  },
  {
   "cell_type": "markdown",
   "metadata": {
    "colab_type": "text",
    "id": "lA-D6NHrDq_K",
    "tags": [
     "text"
    ]
   },
   "source": [
    "As a final task, create the following three plots:\n",
    "- accuracies against size of the dataset\n",
    "- inference times against size of the dataset\n",
    "- training times against size of the dataset\n",
    "\n",
    "Compare all six models in each of these three plots and don't forget to label the plots appropriately! Then answer the questions below."
   ]
  },
  {
   "cell_type": "markdown",
   "metadata": {
    "colab": {
     "base_uri": "https://localhost:8080/",
     "height": 129
    },
    "colab_type": "code",
    "id": "_Y7As1-FYLTJ",
    "outputId": "11185453-bcf3-4540-cfa0-4e8457282aa9",
    "tags": [
     "text"
    ]
   },
   "source": [
    "<h3 style=\"color:rgb(208,90,80)\"> 2.1 Code & Questions (20 points)</h3>"
   ]
  },
  {
   "cell_type": "code",
   "execution_count": 23,
   "metadata": {
    "colab": {
     "base_uri": "https://localhost:8080/",
     "height": 803
    },
    "colab_type": "code",
    "id": "yHLowqaYYLTL",
    "outputId": "a1fe376c-e688-4f40-ce39-eb5a24daabc3",
    "scrolled": true,
    "tags": [
     "plots"
    ]
   },
   "outputs": [
    {
     "data": {
      "text/plain": [
       "<matplotlib.legend.Legend at 0x28bdefdaf50>"
      ]
     },
     "execution_count": 23,
     "metadata": {},
     "output_type": "execute_result"
    },
    {
     "data": {
      "image/png": "[encoded data removed]",
      "text/plain": [
       "<Figure size 640x480 with 1 Axes>"
      ]
     },
     "metadata": {},
     "output_type": "display_data"
    },
    {
     "data": {
      "image/png": "[encoded data removed]",
      "text/plain": [
       "<Figure size 640x480 with 1 Axes>"
      ]
     },
     "metadata": {},
     "output_type": "display_data"
    },
    {
     "data": {
      "image/png": "[encoded data removed]",
      "text/plain": [
       "<Figure size 640x480 with 1 Axes>"
      ]
     },
     "metadata": {},
     "output_type": "display_data"
    }
   ],
   "source": [
    "models=[\"RF_100\",\"RF_500\",\"SVM\",\"CNN_simple\",\"CNN_wide\",\"CNN_deep\",\"CNN_wide_max\"]\n",
    "\n",
    "values=list(range(5)) #because of the 'partitions' of the training set\n",
    "\n",
    "fix,ax=plt.subplots(1,1)\n",
    "for model in models:\n",
    "    ax.plot(experiments[model][\"accuracy\"],label=model)\n",
    "ax.set_xticks(values)\n",
    "ax.set_xticklabels(experiments[\"percentages\"])\n",
    "ax.set_title(\"Accuracy vs. Size of dataset\")\n",
    "ax.set_ylabel(\"Accuracy\")\n",
    "ax.legend()\n",
    "\n",
    "fix,ax=plt.subplots(1,1)\n",
    "for model in models:\n",
    "    ax.plot(experiments[model][\"training_time\"],label=model)\n",
    "ax.set_xticks(values)\n",
    "ax.set_xticklabels(experiments[\"percentages\"])\n",
    "ax.set_title(\"Training_time vs. Size of dataset\")\n",
    "ax.set_ylabel(\"Training time\")\n",
    "ax.legend()\n",
    "\n",
    "fix,ax=plt.subplots(1,1)\n",
    "for model in models:\n",
    "    ax.plot(experiments[model][\"inference_time\"],label=model)\n",
    "ax.set_xticks(values)\n",
    "ax.set_xticklabels(experiments[\"percentages\"])\n",
    "ax.set_title(\"Inference time vs. Size of dataset\")\n",
    "ax.set_ylabel(\"Inference time\")\n",
    "ax.legend()"
   ]
  },
  {
   "cell_type": "markdown",
   "metadata": {
    "tags": [
     "text"
    ]
   },
   "source": [
    "Which statements about the plots are correct?\n",
    "\n",
    "a_) Inference time follows a similar pattern for all but one classifier.<br>\n",
    "b_) Training time is almost identical for all classifiers.<br>\n",
    "c_) CNN_simple has the lowest accuracy for all dataset sizes.<br>\n",
    "d_) The worst accuracy for a model on any dataset is lower than $40%$. <br>\n",
    "e_) The model with the shortest training time for a dataset fraction of $0.1$ is a random forest.  <br>\n",
    "f_) All classifiers have an accuracy higher than $85%$ when being trained on the full dataset."
   ]
  },
  {
   "cell_type": "code",
   "execution_count": 24,
   "metadata": {
    "tags": [
     "Q1"
    ]
   },
   "outputs": [],
   "source": [
    "#your answers go here ↓↓↓\n",
    "a_=True\n",
    "b_=False\n",
    "c_=False\n",
    "d_=False\n",
    "e_=False\n",
    "f_=True"
   ]
  },
  {
   "cell_type": "markdown",
   "metadata": {
    "tags": [
     "text"
    ]
   },
   "source": [
    "<h3 style=\"color:rgb(208,90,80)\">2.2 Question (10 points)</h3>\n",
    "\n",
    "Which statements are correct?\n",
    "\n",
    "g_) Inference and training times indicate that SVMs are not feasible on large data sets.<br>\n",
    "h_) A comparison of different algorithms is fair as long as they are compared on the same problem, i.e. the same training and test data.<br>\n",
    "i_) A comparison of different algorithms should take into account the number of trainable model parameters or the training and inference times.<br>\n",
    "j_) Monitoring the performance on the training data is pointless during training since only the performance on the test data counts.<br>\n",
    "k_) On small data sets, the SVM and Random Forests achieve higher accuracy than the simple CNN.<br>\n",
    "l_) Monitoring the performance on the training data and the test data is necessary to spot over-training.<br>"
   ]
  },
  {
   "cell_type": "code",
   "execution_count": 25,
   "metadata": {
    "tags": [
     "Q2"
    ]
   },
   "outputs": [],
   "source": [
    "#your answers go here ↓↓↓\n",
    "g_=True\n",
    "h_=True\n",
    "i_=True\n",
    "j_=False\n",
    "k_=True\n",
    "l_=True"
   ]
  },
  {
   "cell_type": "markdown",
   "metadata": {
    "tags": [
     "text"
    ]
   },
   "source": [
    "The take home messages of this task are:\n",
    "- the model choice depends on the size and complexity of the data set\n",
    "- the model choice is constrained by the available computing and time resources\n",
    "- neural networks are often a good choice for large data sets, e.g. CNNs on computer vision tasks\n",
    "- for smaller problems alternatives like SVM or Random Forests can be more efficient\n",
    "- there is no algorithm that guarantees superior performance on every problem (aka \"No free lunch theorem\")"
   ]
  }
 ],
 "metadata": {
  "accelerator": "GPU",
  "celltoolbar": "Tags",
  "colab": {
   "collapsed_sections": [],
   "name": "Assignment_8_Solution.ipynb",
   "provenance": []
  },
  "kernelspec": {
   "display_name": "Python 3 (ipykernel)",
   "language": "python",
   "name": "python3"
  },
  "language_info": {
   "codemirror_mode": {
    "name": "ipython",
    "version": 3
   },
   "file_extension": ".py",
   "mimetype": "text/x-python",
   "name": "python",
   "nbconvert_exporter": "python",
   "pygments_lexer": "ipython3",
   "version": "3.10.7"
  }
 },
 "nbformat": 4,
 "nbformat_minor": 4
}
